{
 "cells": [
  {
   "cell_type": "markdown",
   "metadata": {
    "slideshow": {
     "slide_type": "slide"
    }
   },
   "source": [
    "# Лекция 6. Симметричная задача на собственные значения и вычисление сингулярного разложения"
   ]
  },
  {
   "cell_type": "markdown",
   "metadata": {
    "slideshow": {
     "slide_type": "slide"
    }
   },
   "source": [
    "## На прошлой лекции\n",
    "\n",
    "- Собственные векторы и собственные значения\n",
    "- Степенной метод и его сходимость\n",
    "- Разложение Шура"
   ]
  },
  {
   "cell_type": "markdown",
   "metadata": {
    "slideshow": {
     "slide_type": "slide"
    }
   },
   "source": [
    "## План на сегодня\n",
    "\n",
    "- QR алгоритм\n",
    "- Ускорение QR алгоритма\n",
    "- Концепция сдвигов\n",
    "- Подход \"разделяй и властвуй\" к вычислению сингулярных чисел\n",
    "- Бисекция\n",
    "- Метод Якоби"
   ]
  },
  {
   "cell_type": "markdown",
   "metadata": {
    "slideshow": {
     "slide_type": "slide"
    }
   },
   "source": [
    "## QR алгоритм\n",
    "\n",
    "- QR алгоритм был предложен в 1961 г. независимо В. Н. Кублановской и J. Francis'ом. Статью про историю этого алгоритма и его авторов можно прочитать [тут](http://www.dm.unibo.it/~guerrini/html/an_09_10/QR_50_years_later.pdf).   \n",
    "\n",
    "- <font color='red'> **Не путайте** QR алгоритм и QR разложение! </font>\n",
    "\n",
    "- QR разложение – это представление матрицы в виде произведения двух матриц, а QR алгоритм использует QR разложение для вычисления разложения Шура.\n"
   ]
  },
  {
   "cell_type": "markdown",
   "metadata": {
    "slideshow": {
     "slide_type": "slide"
    }
   },
   "source": [
    "##  Путь к QR алгоритму\n",
    "\n",
    "Рассмотрим выражение\n",
    "\n",
    "$$A = Q T Q^*,$$\n",
    "\n",
    "и перепишем его в виде\n",
    "\n",
    "$$\n",
    "   Q T = A Q.\n",
    "$$\n",
    "\n",
    "Слева замечаем QR разложение матрицы $AQ$.\n",
    "\n",
    "Используем его чтобы записать одну итерацию метода неподвижной точки для разложения Шура."
   ]
  },
  {
   "cell_type": "markdown",
   "metadata": {
    "slideshow": {
     "slide_type": "slide"
    }
   },
   "source": [
    "## Вывод QR алгоритма из уравнения неподвижной точки\n",
    "\n",
    "Запишем следующий итерационный процесс \n",
    "\n",
    "$$\n",
    "    Q_{k+1} R_{k+1} = A Q_k, \\quad Q_{k+1}^* A = R_{k+1} Q^*_k\n",
    "$$\n",
    "\n",
    "Введём новую матрицу\n",
    "\n",
    "$$A_k = Q^* _k A Q_k = Q^*_k Q_{k+1} R_{k+1} = \\widehat{Q}_k R_{k+1}$$\n",
    "\n",
    "тогда аппроксимация для $A_{k+1}$ имеет вид\n",
    "\n",
    "$$A_{k+1} = Q^*_{k+1} A Q_{k+1} = ( Q_{k+1}^* A = R_{k+1} Q^*_k)  = R_{k+1} \\widehat{Q}_k.$$\n",
    "\n",
    "Итак, мы получили стандартную форму записи QR алгоритма."
   ]
  },
  {
   "cell_type": "markdown",
   "metadata": {
    "slideshow": {
     "slide_type": "slide"
    }
   },
   "source": [
    "Финальные формулы обычно записывают в **QRRQ**-форме:\n",
    "\n",
    "1. Инициализируем $A_0 = A$.\n",
    "2. Вычислим QR разложение матрицы $A_k$: $A_k = Q_k R_k$.\n",
    "3. Обновим аппроксимацию $A_{k+1} = R_k Q_k$.\n",
    "\n",
    "Продолжаем итерации пока $A_k$ не станет достаточно треугольной (например, норма подматрицы под главной диагональю не станет достаточно мала)."
   ]
  },
  {
   "cell_type": "markdown",
   "metadata": {
    "slideshow": {
     "slide_type": "slide"
    }
   },
   "source": [
    "## Что известно о сходимости и сложности\n",
    "\n",
    "**Утверждение**\n",
    "\n",
    "Матрицы $A_k$ унитарно подобны матрице $A$\n",
    "\n",
    "$$A_k = Q^*_{k-1} A_{k-1} Q_{k-1} = (Q_{k-1} \\ldots Q_1)^* A (Q_{k-1} \\ldots Q_1)$$\n",
    "\n",
    "а произведение унитарных матриц – унитарная матрица.\n",
    "\n",
    "Сложность одной итерации $\\mathcal{O}(n^3)$, если используется QR разложение для общего случая.\n",
    "\n",
    "Мы ожидаем, что $A_k$ будет **очень близка к треугольной матрице** для достаточно большого $k$."
   ]
  },
  {
   "cell_type": "code",
   "execution_count": 9,
   "metadata": {
    "slideshow": {
     "slide_type": "slide"
    }
   },
   "outputs": [
    {
     "name": "stdout",
     "output_type": "stream",
     "text": [
      "Leading 3x3 block of a:\n",
      "[[ 2.41052440e+000 -5.41127562e-017 -4.10963400e-017]\n",
      " [ 2.42500623e-168  3.49984625e-001  5.13648922e-017]\n",
      " [ 0.00000000e+000  6.56745067e-273  1.53236733e-002]]\n"
     ]
    }
   ],
   "source": [
    "import numpy as np\n",
    "n = 4\n",
    "a = [[1.0/(i + j + 0.5) for i in range(n)] for j in range(n)]\n",
    "niters = 200\n",
    "for k in range(niters):\n",
    "    q, rmat = np.linalg.qr(a)\n",
    "    a = rmat.dot(q)\n",
    "print('Leading 3x3 block of a:')\n",
    "print(a[:3, :3])"
   ]
  },
  {
   "cell_type": "markdown",
   "metadata": {
    "slideshow": {
     "slide_type": "slide"
    }
   },
   "source": [
    "## Сходимость и сложность QR алгоритма\n",
    "\n",
    "- QR алгоритм сходится от первого диагонального элемента к последнему.\n",
    "\n",
    "- По крайней мере 2-3 итерации необходимо для определения каждого диагонального элемента матрицы $T$. \n",
    "\n",
    "- Каждый шаг состоит в вычислении QR разложения и одного произведения двух матриц, в результате имеем сложность $\\mathcal{O}(n^3)$.\n",
    "\n",
    "**Q**: означает ли это итоговую сложность $\\mathcal{O}(n^4)$? \n",
    "\n",
    "**A**: к счастью, нет! \n",
    "\n",
    "- Мы можем ускорить QR алгоритм, используя сдвиги, поскольку матрица $A_k - \\lambda I$ имеет те же векторы Шура (столбцы матрицы $U$)."
   ]
  },
  {
   "cell_type": "markdown",
   "metadata": {
    "slideshow": {
     "slide_type": "slide"
    }
   },
   "source": [
    "## Верхне-гессенбергова форма матрицы\n",
    "\n",
    "Матрица $A$ имеет верхне-гессенбергову форму, если\n",
    "\n",
    "$$a_{ij} = 0, \\; \\mbox{при  } i \\geq j+2.$$\n",
    "\n",
    "$$H = \\begin{bmatrix} * & * & * & * & * \\\\ * & * & * & * & * \\\\ 0 & * & * & * & *\\\\ 0 & 0 & * & * & *\\\\ 0 & 0 & 0 & * & * \\\\ \\end{bmatrix}.$$"
   ]
  },
  {
   "cell_type": "markdown",
   "metadata": {
    "slideshow": {
     "slide_type": "slide"
    }
   },
   "source": [
    "## Приведение произвольной матрицы к верхне-гессенберговой форме\n",
    "\n",
    "С помощью отражений Хаусхолдера можно привести любую матрицу к верхне-гессенберговой форме:\n",
    "\n",
    "$$U^* A U = H.$$\n",
    "\n",
    "- Единственное отличие от вычисления разложения Шура заключается в занулении последних $n-2, n-3, ...$ элементов в первом, втором и так далее столбцах\n",
    "\n",
    "- Сложность такого приведения $\\mathcal{O}(n^3)$ операций\n",
    "\n",
    "- Если матрица приведена к верхне-гессенберговой форме, то одна итерация QR алгоритма имеет сложность $\\mathcal{O}(n^2)$ операций (например, используя вращения Гивенса) (почему?)\n",
    "\n",
    "- Также верхне-гессенбергова форма матрицы сохраняется после выполнения одной итерации QR алгоритма (проверьте!)."
   ]
  },
  {
   "cell_type": "markdown",
   "metadata": {
    "slideshow": {
     "slide_type": "slide"
    }
   },
   "source": [
    "## Случай симметричной (эрмитовой) матрицы\n",
    "\n",
    "- Если матрица $A$ симметричная (эрмитова), то $A = A^*$, тогда $H = H^*$ и верхне-гессенбергова форма оказывается трёхдиагональной матрицей\n",
    "\n",
    "- Далее мы будем говорить только о симметричном трёхдиагональном виде верхне-гессенберговой формы\n",
    "\n",
    "- Любая эрмитова матрица может быть приведена к трёхдиагональной форме с помощью отражений Хаусхолдера\n",
    "\n",
    "- **Основная идея:** трёхдиагональная форма сохраняется при выполнении QR алгоритма, и сложность одной итерации может быть сокращена до $\\mathcal{O}(n)$!"
   ]
  },
  {
   "cell_type": "markdown",
   "metadata": {
    "slideshow": {
     "slide_type": "slide"
    }
   },
   "source": [
    "## Одна итерация QR алгоритма\n",
    "\n",
    "- Одна итерация QR алгоритма имеет следующий вид:\n",
    "\n",
    "$$A_k = Q_k R_k, \\quad A_{k+1} = R_k Q_k.$$\n",
    "\n",
    "- Если $A_0 = A$ <font color='red'> симметричная трёхдиагональная матрица </font>, то эта форма сохраняется.\n",
    "\n",
    "- Давайте это проверим!"
   ]
  },
  {
   "cell_type": "code",
   "execution_count": 1,
   "metadata": {
    "slideshow": {
     "slide_type": "slide"
    }
   },
   "outputs": [
    {
     "data": {
      "text/plain": [
       "array([ 1.25844981, -1.86142358,  0.        ,  0.        ,  0.        ,\n",
       "        0.        ,  0.        ,  0.        ,  0.        ,  0.        ,\n",
       "        0.        ,  0.        ,  0.        ,  0.        ,  0.        ,\n",
       "        0.        ,  0.        ,  0.        ,  0.        ,  0.        ])"
      ]
     },
     "execution_count": 1,
     "metadata": {},
     "output_type": "execute_result"
    },
    {
     "data": {
      "image/png": "[encoded data removed]",
      "text/plain": [
       "<Figure size 432x288 with 1 Axes>"
      ]
     },
     "metadata": {
      "needs_background": "light"
     },
     "output_type": "display_data"
    },
    {
     "data": {
      "image/png": "[encoded data removed]",
      "text/plain": [
       "<Figure size 432x288 with 1 Axes>"
      ]
     },
     "metadata": {
      "needs_background": "light"
     },
     "output_type": "display_data"
    }
   ],
   "source": [
    "%matplotlib inline\n",
    "import numpy as np\n",
    "import matplotlib.pyplot as plt\n",
    "\n",
    "#Generate a random tridiagonal matrix\n",
    "n = 20\n",
    "d = np.random.randn(n)\n",
    "sub_diag = np.random.randn(n-1)\n",
    "\n",
    "mat = np.diag(d) + np.diag(sub_diag, -1) + np.diag(sub_diag, 1)\n",
    "plt.spy(mat)\n",
    "plt.title(\"Original matrix\", fontsize=18)\n",
    "q, r = np.linalg.qr(mat)\n",
    "plt.figure()\n",
    "b = r.dot(q)\n",
    "b[abs(b) <= 1e-12] = 0\n",
    "plt.spy(b)\n",
    "plt.title(\"After one iteration of QR algorithm\", fontsize=18)\n",
    "#plt.figure()\n",
    "#plt.imshow(np.abs(r.dot(q)))\n",
    "b[0, :]"
   ]
  },
  {
   "cell_type": "markdown",
   "metadata": {
    "slideshow": {
     "slide_type": "slide"
    }
   },
   "source": [
    "## Трёхдиагональная форма\n",
    "\n",
    "- Работая с трёхдиагональной формой, вам не нужно вычислять матрицу $Q$: нужно лишь вычислить трёхдиагональную часть, которая получается после итерации \n",
    "\n",
    "    $$A_k = Q_k R_k, \\quad A_{k+1}  = R_k Q_k,$$\n",
    "\n",
    "    в случае $A_k = A^*_k$.\n",
    "\n",
    "- Такая матрица определяется $\\mathcal{O}(n)$ параметрами\n",
    "- Вычисление QR разложения более сложное, но возможно вычислить $A_{k+1}$ напрямую без вычисления $Q_k$.\n",
    "- Это называется **неявный QR-шаг**."
   ]
  },
  {
   "cell_type": "markdown",
   "metadata": {
    "slideshow": {
     "slide_type": "slide"
    }
   },
   "source": [
    "## Теорема о неявном QR алгоритме\n",
    "\n",
    "\n",
    "- Все реализации неявного QR алгоритма основаны на следующей теореме \n",
    "\n",
    "**Теорема.** Пусть \n",
    "\n",
    "$$Q^* A Q = H$$ \n",
    "\n",
    "верхне-гессенбергова форма матрицы.\n",
    "Тогда первый столбец матрицы $Q$ определяет все остальные её столбцы. Он может быть найден из следующего уравнения\n",
    "\n",
    "$$A Q = Q H. $$\n"
   ]
  },
  {
   "cell_type": "markdown",
   "metadata": {
    "slideshow": {
     "slide_type": "slide"
    }
   },
   "source": [
    "## Сходимость QR алгоритма\n",
    "\n",
    "- Сходимость QR алгоритма – непростой вопрос (см. Е.Е. Тыртышников \"Краткий курс численного анализа\")! \n",
    "\n",
    "\n",
    "**Итог.** Если у нас есть разложение вида\n",
    "\n",
    "$$A = X \\Lambda X^{-1}, \\quad A = \\begin{bmatrix}A_{11} & A_{12} \\\\ A_{21} & A_{22}\\end{bmatrix}$$\n",
    "\n",
    "и\n",
    "\n",
    "$$\n",
    "\\Lambda = \\begin{bmatrix} \\Lambda_1 & 0 \\\\ \n",
    "0 & \\Lambda_2 \\end{bmatrix}, \\quad \\lambda(\\Lambda_1)=\\{\\lambda_1,\\dots,\\lambda_m\\}, \\ \\lambda(\\Lambda_2)=\\{\\lambda_{m+1},\\dots,\\lambda_r\\},\n",
    "$$\n",
    "\n",
    "а также есть **зазор** между собственными значениями в матрице $\\Lambda_1$ и $\\Lambda_2$ ($|\\lambda_1|\\geq \\dots \\geq |\\lambda_m| > |\\lambda_{m+1}| \\geq\\dots \\geq |\\lambda_r| >0$), тогда блок $A^{(k)}_{21}$  матрицы $A_k$\n",
    "сходится к нулевому в процессе работы QR алгоритма со скоростью\n",
    "\n",
    "$$\\Vert A^{(k)}_{21} \\Vert \\leq  C q^k, \\quad q = \\left| \\frac{\\lambda_{m+1}}{\\lambda_{m}}  \\right |,$$\n",
    "\n",
    "где $m$ размер матрицы $\\Lambda_1$.\n",
    "\n",
    "Таким образом, нам нужно увеличить зазор между $\\Lambda_1$ и $\\Lambda_2$. Это можно сделать с помощью **QR алгоритма со сдвигами**."
   ]
  },
  {
   "cell_type": "markdown",
   "metadata": {
    "slideshow": {
     "slide_type": "slide"
    }
   },
   "source": [
    "## QR алгоритм со сдвигами\n",
    "\n",
    "$$A_{k} - s_k I = Q_k R_k, \\quad A_{k+1} = R_k Q_k + s_k I$$\n",
    "\n",
    "\n",
    "- Сходимость такого алгоритма линейная с фактором\n",
    "\n",
    "$$\\left| \\frac{\\lambda_{m+1} - s_k}{\\lambda_{m} - s_k}  \\right |,$$\n",
    "\n",
    "где $\\lambda_m$ – $m$-ое большее по модулю собственное значение. Если сдвиг близок к собственному вектору, сходимость более быстрая.\n",
    "\n",
    "- Существуют различные стратегии выбора сдвигов. \n",
    "\n",
    "- Использование сдвигов – это общий подход к ускорению сходимости итерационных методов вычисления собственных значений. Далее покажем, как выбирать сдвиги для более простых алгоритмов"
   ]
  },
  {
   "cell_type": "markdown",
   "metadata": {
    "slideshow": {
     "slide_type": "slide"
    }
   },
   "source": [
    "## Сдвиги и степенной метод\n",
    "\n",
    "Напоминаем, что такое степенной метод для вычисления собственых значений.\n",
    "\n",
    "$$x_{k+1} := A x_k, \\quad x_{k+1} := \\frac{x_{k+1}}{\\Vert x_{k+1} \\Vert}.$$\n",
    "\n",
    "- Он сходится к собственному вектору, соответствующему максимальному по модулю собственному значению.\n",
    "\n",
    "- Сходимость может быть очень медленной.\n",
    "\n",
    "- Используем сдвиги: если мы преобразуем матрицу\n",
    "\n",
    "$$  A := A - \\lambda_k I,$$\n",
    "\n",
    "то соответствующее собственное значение уменьшится (а нам нужно максимальное по модулю). Это не то, что нам было нужно!"
   ]
  },
  {
   "cell_type": "markdown",
   "metadata": {
    "slideshow": {
     "slide_type": "slide"
    }
   },
   "source": [
    "## Обратная итерация и итерация Релея\n",
    "\n",
    "- Для того чтобы из малого собственного значения сделать большое, нам нужно **обратить матрицу**, и это приводит нас к **методу обратной итерации**\n",
    "\n",
    "$$x_{k+1} = (A - \\lambda I)^{-1} x_k,$$\n",
    "\n",
    "где $\\lambda$ – сдвиг, который близок к собственному значению, которое мы хотим найти. Аналогично степенному методу сходимость линейная.\n",
    "\n",
    "- Для ускорения сходимости можно использовать **итерацию Релея**, которая задаётся с помощью **адаптивного выбора** параметра сдвига:\n",
    "\n",
    "$$x_{k+1} = (A - \\lambda_k I)^{-1} x_k,$$\n",
    "\n",
    "$$\\lambda_k = \\frac{(Ax_k, x_k)}{(x_k, x_k)}$$\n",
    "\n",
    "В симметричном случае $A = A^*$ сходимость **локально кубическая**, и **локально квадратичная** иначе."
   ]
  },
  {
   "cell_type": "markdown",
   "metadata": {
    "slideshow": {
     "slide_type": "slide"
    }
   },
   "source": [
    "## Сингулярные значения и собственные значения (1)\n",
    "\n",
    "\n",
    "- Сингулярное разложение имеет вид\n",
    "\n",
    "$$A = U \\Sigma V^*$$\n",
    "\n",
    "и существует для любой матрицы.\n",
    "\n",
    "- Его также можно считать способом приведения данной матрицы к диагональному виду с помощью двух унитарных преобразований:\n",
    "\n",
    "$$\\Sigma = U^* A V.$$\n",
    "\n",
    "- С помощью двусторонних преобразований Хаусхолдера мы можем привести любую матрицу к **бидиагональной форме** $B$."
   ]
  },
  {
   "cell_type": "markdown",
   "metadata": {
    "slideshow": {
     "slide_type": "slide"
    }
   },
   "source": [
    "## Сингулярные значения и собственные значения (2)\n",
    "\n",
    "**Неявный QR алгоритм** (со сдвигами) вычисляет собственные значения (разложение Шура).\n",
    "Но мы не можем применить его напрямую к бидиагональной матрице, поскольку она может быть недиагонализуема в общем случае.\n",
    "\n",
    "Однако задачу вычисления сингулярного разложения можно свести к **симметричной задаче на собственные значения** двумя способами:\n",
    "\n",
    "1. Работать с трёхдиагональной матрицей\n",
    "\n",
    "$$T = B^* B$$ \n",
    "\n",
    "2. Работать с расширенной матрицей \n",
    "\n",
    "$$T = \\begin{bmatrix} 0 & B \\\\ B^* & 0 \\end{bmatrix}$$\n",
    "\n",
    "\n",
    "Случай 1 практически реализуем, если **не формировать матрицу $T$ явно**!\n",
    "\n",
    "Таким образом, задача вычисления сингулярных чисел может быть сведена к задаче вычисления собственных чисел симметричной трёхдиагональной матрицы."
   ]
  },
  {
   "cell_type": "markdown",
   "metadata": {
    "slideshow": {
     "slide_type": "slide"
    }
   },
   "source": [
    "## Алгоритмы для симметричной задачи на собственные значения\n",
    "\n",
    "Рассмотрены:\n",
    "\n",
    "- QR алгоритм: \"золотой стандарт\" для вычисления собственных значений\n",
    "- Метод итерации Релея\n",
    "\n",
    "Далее:\n",
    "\n",
    "- Алгоритм на основе стратегии \"разделяй и властвуй\"\n",
    "- Метод бисекции\n",
    "- Метод Якоби"
   ]
  },
  {
   "cell_type": "markdown",
   "metadata": {
    "slideshow": {
     "slide_type": "slide"
    }
   },
   "source": [
    "## Метод разделяй и властвуй\n",
    "\n",
    "Пусть у нас есть трёхдиагональная матрица и мы разделили её на блоки:\n",
    "\n",
    "\n",
    "$$T = \\begin{bmatrix} T'_1 & B \\\\ B^{\\top} & T'_2 \\end{bmatrix}$$\n",
    "\n",
    "Можем записать матрицу $T$ в виде\n",
    "\n",
    "$$T = \\begin{bmatrix} T_1 & 0 \\\\ 0 & T_2 \\end{bmatrix} + b_m v v^*$$\n",
    "\n",
    "где $vv^*$ – матрица ранга 1, $v = (0,\\dots,0,1,1,0,\\dots,0)^T$.\n",
    "\n",
    "Пусть мы уже разложили матрицы $T_1$ и $T_2$:\n",
    "\n",
    "$$T_1 = Q_1 \\Lambda_1 Q^*_1, \\quad T_2 = Q_2 \\Lambda_2 Q^*_2$$\n",
    "\n",
    "Тогда (проверьте!),\n",
    "\n",
    "$$\\begin{bmatrix} Q^*_1 & 0 \\\\ 0 & Q^*_2 \\end{bmatrix} T\\begin{bmatrix} Q_1 & 0 \\\\ 0 & Q_2 \\end{bmatrix} = D + \\rho u u^{*}, \\quad D = \\begin{bmatrix} \\Lambda_1 & 0 \\\\ 0 & \\Lambda_2\\end{bmatrix},$$\n",
    "\n",
    "то есть мы свели задачу к задаче вычисления собственных значений у матрицы вида\n",
    "\n",
    "\n",
    "<font color='red'> диагональная матрица плюс матрица малого ранга. </font>\n",
    "\n"
   ]
  },
  {
   "cell_type": "markdown",
   "metadata": {
    "slideshow": {
     "slide_type": "slide"
    }
   },
   "source": [
    "## Матрица вида диагональная матрица плюс матрица малого ранга\n",
    "\n",
    "- Собственные значения матрицы  вида\n",
    "\n",
    "$$D + \\rho u u^* $$\n",
    "\n",
    "вычислить не так просто!\n",
    "\n",
    "- Характеристический многочлен имеет вид\n",
    "\n",
    "$$\\det(D + \\rho uu^* - \\lambda I) = \\det(D - \\lambda I)\\det(I + \\rho (D - \\lambda I)^{-1} uu^*) = 0.$$\n",
    "\n",
    "Тогда (докажите!!) \n",
    "\n",
    "$$\\det(I + \\rho (D - \\lambda I)^{-1} uu^*) = 1 + \\rho \\sum_{i=1}^n \\frac{|u_i|^2}{d_i - \\lambda} = 0$$\n",
    "\n",
    "Подсказка: найдите $\\det(I + w u^*)$ используя два факта: \n",
    "- $\\text{det}(C) = \\prod_{i=1}^n\\lambda_i(C)$\n",
    "- $\\text{trace}(C) = \\sum_{i=1}^n \\lambda_i$."
   ]
  },
  {
   "cell_type": "markdown",
   "metadata": {
    "slideshow": {
     "slide_type": "slide"
    }
   },
   "source": [
    "## Характеристическое уравнение\n",
    "\n",
    "$$1 + \\rho \\sum_{i=1}^n \\frac{|u_i|^2}{d_i - \\lambda} = 0$$\n",
    "\n",
    "Как найти корни?"
   ]
  },
  {
   "cell_type": "code",
   "execution_count": 2,
   "metadata": {
    "slideshow": {
     "slide_type": "slide"
    }
   },
   "outputs": [
    {
     "data": {
      "image/png": "[encoded data removed]",
      "text/plain": [
       "<Figure size 432x288 with 1 Axes>"
      ]
     },
     "metadata": {
      "needs_background": "light"
     },
     "output_type": "display_data"
    }
   ],
   "source": [
    "import numpy as np\n",
    "\n",
    "lm = [1, 2, 3, 4]\n",
    "M = len(lm)\n",
    "D = np.array(lm)\n",
    "a = np.min(lm)\n",
    "b = np.max(lm)\n",
    "t = np.linspace(-1, 6, 1000)\n",
    "u = 0.5 * np.ones(M)\n",
    "rho = 1\n",
    "def fun(lam):\n",
    "    return 1 + rho * np.sum(u**2/(D - lam))\n",
    "res = [fun(lam) for lam in t]\n",
    "plt.plot(t, res, 'k')\n",
    "plt.plot(t, np.zeros_like(t))\n",
    "plt.ylim([-6, 6])\n",
    "plt.xticks(fontsize=18)\n",
    "plt.yticks(fontsize=18)\n",
    "_ = plt.xlabel(\"$\\lambda$\", fontsize=18)"
   ]
  },
  {
   "cell_type": "markdown",
   "metadata": {
    "slideshow": {
     "slide_type": "slide"
    }
   },
   "source": [
    "- Эта функция имеет только один корень на каждом отрезке $[d_i, d_{i+1}]$\n",
    "\n",
    "- Мы показали справедливость теоремы Коши о чередовании (что происходит с собственными числами после внесения возмущения ранга 1)"
   ]
  },
  {
   "cell_type": "markdown",
   "metadata": {
    "slideshow": {
     "slide_type": "slide"
    }
   },
   "source": [
    "## Как найти корни\n",
    "\n",
    "- Метод Ньютона не сработает (изобразите касательные к графику).\n",
    "\n",
    "- Заметим, что метод Ньютона – это по сути линейная аппроксимация функции $f(\\lambda)$ на каждой итерации.\n",
    "\n",
    "- Лучше аппроксимировать с помощью **гиперболы** вида:\n",
    "\n",
    "$$f(\\lambda) \\approx c_0 + \\frac{c_1}{d_i - \\lambda} + \\frac{c_2}{d_{i+1} - \\lambda}.$$\n",
    "\n",
    "- Для вычисления коэффициентов нам нужно вычислить $f(\\lambda)$ и $f'(\\lambda)$  в некоторых точках.\n",
    "\n",
    "- После чего получить апроксимацию из решения **квадратного уравнения**"
   ]
  },
  {
   "cell_type": "markdown",
   "metadata": {
    "slideshow": {
     "slide_type": "slide"
    }
   },
   "source": [
    "## Важный недостаток метода\n",
    "\n",
    "- Устойчивость: этот метод игнорировали долгое время из-за неустойчивого вычисления собственных векторов.\n",
    "\n",
    "- Нам нужно вычислить собственные векторы матрицы $D + \\rho uu^*$.\n",
    "\n",
    "- Точное выражение для собственных векторов $v_i$, для которых найдены собственные значения $\\alpha_i$:\n",
    "\n",
    "$$(D + \\rho uu^*)v_i = \\alpha_i v_i \\qquad (D - \\alpha_i I)v_i + \\rho (u^*v_i) u  = 0$$\n",
    "\n",
    "То есть $v_i \\in \\mathrm{span}(\\{(D - \\alpha_i I)^{-1}u\\})$.\n",
    "\n",
    "- Причины неустойчивости:\n",
    "    - если есть два близких собственных числа $\\alpha_i$ и $\\alpha_{i+1}$, то соответствующие векторы $(D - \\alpha_i I)^{-1}u$ и $(D - \\alpha_{i+1} I)^{-1}u$ будут близки, хотя долждны быть ортогональны\n",
    "    - если $\\alpha_i$ и $\\alpha_{i+1}$ очень близки, то они близки к числу $d_i$ между ними, то есть матрицы $D - \\alpha_i I$ и $D - \\alpha_{i+1} I$ близки к вырожденным"
   ]
  },
  {
   "cell_type": "markdown",
   "metadata": {
    "slideshow": {
     "slide_type": "slide"
    }
   },
   "source": [
    "## Теорема Лёвнера (Charles Loewner)\n",
    "\n",
    "- Решение проблемы неустойчивости можно получить с помощью теоремы Лёвнера:\n",
    "\n",
    "Если $\\alpha_i$ и $d_i$ удовлетворяют **теореме о чередовании** \n",
    "\n",
    "\n",
    "$$d_n < \\alpha_n < \\ldots < d_{i+1} < \\alpha_{i+1} \\ldots$$\n",
    "\n",
    "Тогда существует вектор $\\widehat{u}$ такой что $\\alpha_i$ – точное собственное значение матрицы\n",
    "\n",
    "$$\\widehat{D} = D + \\widehat{u} \\widehat{u}^*$$\n",
    "\n",
    "и \n",
    "\n",
    "$$ \\widehat{u}^2_i = \\frac{\\prod_{j=1}^n (\\alpha_j - d_i)}{\\prod_{j=1, j \\neq i}^n (d_j - d_i)}  $$\n",
    "\n",
    "- Использование вектора $\\widehat{u}$ вместо $u$ даёт устойчивое вычисление собственного вектора!\n",
    "- Таким образом, сначала вычисляются собственные значения, затем $\\widehat{u}$ и только потом собственные векторы."
   ]
  },
  {
   "cell_type": "markdown",
   "metadata": {
    "slideshow": {
     "slide_type": "slide"
    }
   },
   "source": [
    "## Ещё несколько алгоритмов\n",
    "\n",
    "- Абсолютно другой подход основан на идеи **бисекции**\n",
    "\n",
    "- Дана матрица $A$, инерция которой определяется как триплет $(\\nu, \\zeta, \\pi)$, где $\\nu$ – число отрицательных, $\\zeta$ - число нулевых, и $\\pi$ - число положительных собственных значений. \n",
    "\n",
    "- Если $X$ невырождена, тогда\n",
    "\n",
    "$$Inertia(A) = Inertia(X^* A X)$$"
   ]
  },
  {
   "cell_type": "markdown",
   "metadata": {
    "slideshow": {
     "slide_type": "slide"
    }
   },
   "source": [
    "## Бисекция с помощью метода Гаусса\n",
    "\n",
    "- Для данного $z$ мы можем запустить метод Гаусса и получить разложение:\n",
    "\n",
    "$$A - zI = L D L^*,$$\n",
    "\n",
    "а инерция для диагональной матрицы вычисляется просто.\n",
    "\n",
    "- С помощью инерции мы можем легко посчитать число собственных значений в заданном интервале.\n",
    "- Пример: если $Inertia(A)=(5,0,2)$ и после сдвига $Inertia(A-zI)=(4,0,3)$, $z\\in[a,b]$ тогда это значит, что $\\lambda(A)\\in[a,z]$."
   ]
  },
  {
   "cell_type": "markdown",
   "metadata": {
    "slideshow": {
     "slide_type": "slide"
    }
   },
   "source": [
    "## Метод Якоби\n",
    "\n",
    "- Вспомним что такое вращения Гивенса (Якоби):\n",
    "\n",
    "на плоскости им соответствуют ортогональные матрицы $2 \\times 2$ вида\n",
    "\n",
    "$$\\begin{pmatrix} \\cos \\phi & \\sin \\phi \\\\ -\\sin \\phi & \\cos \\phi \\end{pmatrix},$$\n",
    "\n",
    "а в $n$-мерном пространстве мы выбираем два индекса $i$ и $j$ и вращаем относительно соответствующих элементов $n$-мерного вектора."
   ]
  },
  {
   "cell_type": "markdown",
   "metadata": {
    "slideshow": {
     "slide_type": "slide"
    }
   },
   "source": [
    "## Метод Якоби: продолжение\n",
    "\n",
    "- Идея метода Якоби состоит в минимизации суммы квадратов недиагональных элементов:\n",
    "\n",
    "$$\\Gamma(A) = \\mathrm{off}( U^* A U), \\quad \\mathrm{off}^2(X) = \\sum_{i \\ne j} \\left|X_{ij}\\right|^2 = \\|X \\|^2_F - \\sum\\limits_{i=1}^n x^2_{ii}$$\n",
    "\n",
    "с помощью последовательных вращений Якоби для их зануления. \n",
    "\n",
    "- Когда элементы выбраны, их легко занулить.\n",
    "\n",
    "- **Главный вопрос:** в каком порядке нужно проводить зануление?\n",
    "\n",
    "- Если мы всегда зануляем максимальный недиагональный элемент, метод имеет глобально линейную сходимость и локально квадратичную.\n",
    "\n",
    "- На практике используется циклический порядок (то есть, $(1, 2), (1, 3), \\ldots, (2, 3), \\ldots$)."
   ]
  },
  {
   "cell_type": "markdown",
   "metadata": {
    "slideshow": {
     "slide_type": "slide"
    }
   },
   "source": [
    "## Главное про метод Якоби\n",
    "\n",
    "Метод Якоби был первым численным методом для вычисления собственных значений, предложен в 1846.\n",
    "\n",
    "- Большая константа в оценке сложности\n",
    "- Очень точный (высокая относительная точность для малых собственных значений по сравнению с другими методами)\n",
    "- Хорошая возможность параллелизации"
   ]
  },
  {
   "cell_type": "markdown",
   "metadata": {
    "slideshow": {
     "slide_type": "slide"
    }
   },
   "source": [
    "## Главное по сегодняшней лекции\n",
    "\n",
    "- Методы решения симметричной задачи на собстенные значения\n",
    "- Использование сдвигов для ускорения сходимости\n",
    "- Способы вычисления сингулярного разложения"
   ]
  },
  {
   "cell_type": "markdown",
   "metadata": {
    "slideshow": {
     "slide_type": "slide"
    }
   },
   "source": [
    "## Выводы по способам вычисления разложений\n",
    "\n",
    "- LU и QR разложения можно вычислить с помощью **прямых** методов за конечное число операций.\n",
    "\n",
    "- SVD и разложение Шура не могут быть вычислены с помощью прямых методов (почему?). Они могут быть получены с помощью **итерационных методов**\n",
    "\n",
    "- Однако итерационные методы также имеют сложность $\\mathcal{O}(n^3)$ операций благодаря быстрой сходимости."
   ]
  }
 ],
 "metadata": {
  "anaconda-cloud": {},
  "celltoolbar": "Slideshow",
  "kernelspec": {
   "display_name": "Python 3 (ipykernel)",
   "language": "python",
   "name": "python3"
  },
  "language_info": {
   "codemirror_mode": {
    "name": "ipython",
    "version": 3
   },
   "file_extension": ".py",
   "mimetype": "text/x-python",
   "name": "python",
   "nbconvert_exporter": "python",
   "pygments_lexer": "ipython3",
   "version": "3.10.6"
  },
  "latex_envs": {
   "LaTeX_envs_menu_present": true,
   "bibliofile": "biblio.bib",
   "cite_by": "apalike",
   "current_citInitial": 1,
   "eqLabelWithNumbers": true,
   "eqNumInitial": 1,
   "labels_anchors": false,
   "latex_user_defs": false,
   "report_style_numbering": false,
   "user_envs_cfg": false
  },
  "nav_menu": {},
  "toc": {
   "navigate_menu": true,
   "number_sections": false,
   "sideBar": true,
   "threshold": 6,
   "toc_cell": false,
   "toc_section_display": "block",
   "toc_window_display": false
  }
 },
 "nbformat": 4,
 "nbformat_minor": 1
}
