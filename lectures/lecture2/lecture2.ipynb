{
 "cells": [
  {
   "cell_type": "markdown",
   "id": "3337b38d",
   "metadata": {
    "slideshow": {
     "slide_type": "slide"
    }
   },
   "source": [
    "# Лекция 2. Векторы, матрицы и нормы. Устойчивость алгоритмов и унитарные матрицы"
   ]
  },
  {
   "cell_type": "markdown",
   "id": "9d49ee41",
   "metadata": {
    "slideshow": {
     "slide_type": "slide"
    }
   },
   "source": [
    "## Что обсудили в прошлый раз\n",
    "\n",
    "- Форматы представления чисел в компьютере\n",
    "- Нюансы вычислений с числами в формате плавающей точки\n",
    "- Накопление ошибок в процессе вычислений\n",
    "- Алгоритмы суммирования\n",
    "- Влияние форматов хранения чисел на работу с нейросетями "
   ]
  },
  {
   "cell_type": "markdown",
   "id": "eb58f964",
   "metadata": {
    "slideshow": {
     "slide_type": "slide"
    }
   },
   "source": [
    "## План на сегодня\n",
    "\n",
    "- Векторы и что с ними можно делать\n",
    "- Матрицы и что можно делать с ними\n",
    "- Базовые операции - введение\n",
    "- Устойчивость алгоритмов: прямая vs обратная\n",
    "- Нормы для векторов и матриц: как определить, вычислить и где применяются "
   ]
  },
  {
   "cell_type": "markdown",
   "id": "46680868",
   "metadata": {
    "slideshow": {
     "slide_type": "slide"
    }
   },
   "source": [
    "## Векторы\n",
    "\n",
    "- В рамках курса, мы будем работать не с числами, а с векторами\n",
    "- Вектор в фиксированном базисе размера $n$ может быть представлен как одномерный массив из $n$ чисел.\n",
    "- Обычно вектор рассматривается, как матрица $n \\times 1$, то есть вектор-столбец\n",
    "\n",
    "**Примеры:** \n",
    "- Многочлены степени $\\leq n$ образуют линейное пространство.\n",
    "- Многочлен $ x^3 - 2x^2 + 1$ может быть представлен в виду вектора $\\begin{bmatrix}1 \\\\ -2 \\\\ 0 \\\\ 1\\end{bmatrix}$ в базисе $\\{x^3, x^2, x, 1\\}$"
   ]
  },
  {
   "cell_type": "code",
   "execution_count": 6,
   "id": "bf9e443d",
   "metadata": {
    "slideshow": {
     "slide_type": "slide"
    }
   },
   "outputs": [
    {
     "name": "stdout",
     "output_type": "stream",
     "text": [
      "[-1.05832754  0.69583904 -1.53083165 -0.58491127 -0.7883133   0.02687101\n",
      "  0.50470021  2.71925914 -0.58663484 -0.69876475]\n",
      "[1. 1. 1. 1. 1. 1. 1. 1. 1. 1.]\n",
      "[0. 0. 0. 0. 0. 0. 0. 0. 0. 0.]\n",
      "[0. 0. 0. 0. 0. 0. 0. 0. 0. 0.]\n"
     ]
    }
   ],
   "source": [
    "import numpy as np\n",
    "\n",
    "n = 10\n",
    "xr = np.array(np.random.randn(n), dtype=np.float64, )\n",
    "print(xr)\n",
    "x = np.ones(n)\n",
    "print(x)\n",
    "x = np.zeros(n)\n",
    "print(x)\n",
    "x = np.zeros_like(xr)\n",
    "print(x)"
   ]
  },
  {
   "cell_type": "code",
   "execution_count": 78,
   "id": "ea205f6c",
   "metadata": {
    "slideshow": {
     "slide_type": "slide"
    }
   },
   "outputs": [
    {
     "name": "stdout",
     "output_type": "stream",
     "text": [
      "63.1 µs ± 285 ns per loop (mean ± std. dev. of 7 runs, 10,000 loops each)\n",
      "26.5 µs ± 33.1 ns per loop (mean ± std. dev. of 7 runs, 10,000 loops each)\n",
      "1.16 µs ± 0.583 ns per loop (mean ± std. dev. of 7 runs, 1,000,000 loops each)\n"
     ]
    }
   ],
   "source": [
    "from numba import jit\n",
    "from numba.typed import List\n",
    "\n",
    "def naive_scal(x, y):\n",
    "    val = 0\n",
    "    for i in range(len(x)):\n",
    "        val += x[i] * y[i]\n",
    "    return val\n",
    "\n",
    "\n",
    "@jit(nopython=True)\n",
    "def naive_scal_numba(x, y):\n",
    "    val = 0\n",
    "    for i in range(len(x)):\n",
    "        val += x[i] * y[i]\n",
    "    return val\n",
    "\n",
    "import random\n",
    "n = 1000\n",
    "x = [random.random() for i in range(n)]\n",
    "y = [random.random() for i in range(n)]\n",
    "typed_x = List()\n",
    "typed_y = List()\n",
    "[typed_x.append(xi) for xi in x]\n",
    "[typed_y.append(x) for x in y]\n",
    "%timeit naive_scal(x, y)\n",
    "%timeit naive_scal_numba(typed_x, typed_y)\n",
    "xnp = np.array(x)\n",
    "ynp = np.array(y)\n",
    "%timeit xnp @ ynp"
   ]
  },
  {
   "cell_type": "markdown",
   "id": "01dc79fd",
   "metadata": {
    "slideshow": {
     "slide_type": "slide"
    }
   },
   "source": [
    "## Векторные нормы\n",
    "\n",
    "- Векторы обычно содержат приближённое описание физических или каких-нибудь других объектов\n",
    "\n",
    "- Один из главных вопросов – это насколько приближение точное (1%, 10%)\n",
    "\n",
    "- Что является достаточно точным представлением объектов, конечно, зависит от конкретного приложения. Например:\n",
    "    - При решении уравнений в частных производных чаще всего встречается точность порядка $10^{-5} - 10^{-10}$\n",
    "    - Текущие приложений нейросетей к решению уравнений в частных производных часто дают точность $10^{-3} - 10^{-4}$. Графики ниже из [этой](https://arxiv.org/pdf/2006.11894.pdf) работы\n",
    "    <img src=\"pinns_loss.png\">\n",
    "    - В приложениях, связанных с обработкой данных, иногда точность порядка $80\\%$ приемлема при серьёзном зашумлении исходных данных."
   ]
  },
  {
   "cell_type": "markdown",
   "id": "311ad1ac",
   "metadata": {
    "slideshow": {
     "slide_type": "slide"
    }
   },
   "source": [
    "## Расстояния и нормы\n",
    "\n",
    "- Норма – это количественная мера малости вектора, обычно обознается как $\\Vert x \\Vert$.\n",
    "\n",
    "Норма должна удовлетворять следующим свойствам:\n",
    "\n",
    "- $\\Vert \\alpha x \\Vert = |\\alpha| \\Vert x \\Vert$\n",
    "- $\\Vert x + y \\Vert \\leq \\Vert x \\Vert + \\Vert y \\Vert$ (неравенство треугольника)\n",
    "- Если $\\Vert x \\Vert = 0$, то $x = 0$\n",
    "\n",
    "Расстояние между двумя векторами можно определить как норму разности между ними\n",
    "\n",
    "$$\n",
    "   d(x, y) = \\Vert x - y \\Vert.\n",
    "$$"
   ]
  },
  {
   "cell_type": "markdown",
   "id": "6df3e66f",
   "metadata": {
    "slideshow": {
     "slide_type": "slide"
    }
   },
   "source": [
    "## Стандартные нормы\n",
    "\n",
    "Наиболее известная и чаще всего используемая норма – это **евклидова норма**:\n",
    "\n",
    "$$\\Vert x \\Vert_2 = \\sqrt{\\sum_{i=1}^n |x_i|^2},$$\n",
    "\n",
    "расстояние по которой соответствует расстоянию в реальном мире. Если векторы состоят из комплексных чисел, используются их модули."
   ]
  },
  {
   "cell_type": "markdown",
   "id": "f5aa9dfc",
   "metadata": {
    "slideshow": {
     "slide_type": "slide"
    }
   },
   "source": [
    "## $p$-норма\n",
    "\n",
    "Евклидова норма или $2$-норма – это частный случай важного класса $p$-норм:\n",
    "\n",
    "$$\n",
    " \\Vert x \\Vert_p = \\Big(\\sum_{i=1}^n |x_i|^p\\Big)^{1/p}.\n",
    "$$\n",
    "\n",
    "Также важны следующие два частных случая :\n",
    "- Бесконечная норма или Чебышёвская норма определяется как максимальный модуль элемента вектора $x$: \n",
    "\n",
    "$$\n",
    "\\Vert x \\Vert_{\\infty} = \\max_i | x_i|\n",
    "$$\n",
    "\n",
    "<img src=\"chebyshev.jpeg\" style=\"height\">\n",
    "\n",
    "- $L_1$ норма определяется как сумма модулей элементов вектора $x$: \n",
    "\n",
    "$$\n",
    "\\Vert x \\Vert_1 = \\sum_i |x_i|\n",
    "$$\n",
    "\n",
    "Расстояние, определённое как $L_1$ норма разности между векторами, называется **Манхэттенским расстоянием**\n",
    "\n",
    "<img src=\"manhattan.jpeg\" style=\"height\">  \n"
   ]
  },
  {
   "cell_type": "markdown",
   "id": "3bfc782b",
   "metadata": {
    "slideshow": {
     "slide_type": "slide"
    }
   },
   "source": [
    "## Эквивалентность норм\n",
    "\n",
    "Все нормы эквивалентны в следующем смысле\n",
    "\n",
    "$$\n",
    "   C_1 \\Vert x \\Vert_* \\leq  \\Vert x \\Vert_{**} \\leq C_2 \\Vert x \\Vert_*\n",
    "$$  \n",
    "\n",
    "для некоторых положительных констант $C_1(n), C_2(n)$, $x \\in \\mathbb{R}^n$ для любых пар норм $\\Vert \\cdot \\Vert_*$ и $\\Vert \\cdot \\Vert_{**}$. Эквивалентность норм означает, что если некоторый вектор мал в одной норме, то он мал и в другой норме. Однако константы могут быть большими."
   ]
  },
  {
   "cell_type": "markdown",
   "id": "e8725cf3",
   "metadata": {
    "slideshow": {
     "slide_type": "slide"
    }
   },
   "source": [
    "## Вычисление норм в Python\n",
    "\n",
    "Пакет NumPy содержит всё необходимое для вычисления норм: функция ```np.linalg.norm```.\n"
   ]
  },
  {
   "cell_type": "code",
   "execution_count": 16,
   "id": "de616deb",
   "metadata": {
    "slideshow": {
     "slide_type": "fragment"
    }
   },
   "outputs": [
    {
     "name": "stdout",
     "output_type": "stream",
     "text": [
      "Relative error in L1 norm: 0.0007956431743793441\n",
      "Relative error in L2 norm: 0.000986473236799014\n",
      "Relative error in Chebyshev norm: 0.0026489905361136838\n"
     ]
    }
   ],
   "source": [
    "import numpy as np\n",
    "n = 100\n",
    "a = np.ones(n)\n",
    "b = a + 1e-3 * np.random.randn(n)\n",
    "print('Relative error in L1 norm:', np.linalg.norm(a - b, 1) / np.linalg.norm(b, 1))\n",
    "print('Relative error in L2 norm:', np.linalg.norm(a - b) / np.linalg.norm(b))\n",
    "print('Relative error in Chebyshev norm:', np.linalg.norm(a - b, np.inf) / np.linalg.norm(b, np.inf))"
   ]
  },
  {
   "cell_type": "markdown",
   "id": "e0b78894",
   "metadata": {
    "slideshow": {
     "slide_type": "slide"
    }
   },
   "source": [
    "## Единичные диски в различных нормах\n",
    "\n",
    "- Единичный диск – это множество точек такое что $\\Vert x \\Vert \\leq 1$\n",
    "- Для евклидовой нормы единичный диск сопадает с обычным диском\n",
    "- Для других норм единичный диск сильно отличается от привычного нам диска"
   ]
  },
  {
   "cell_type": "code",
   "execution_count": 21,
   "id": "987a2851",
   "metadata": {
    "slideshow": {
     "slide_type": "fragment"
    }
   },
   "outputs": [
    {
     "data": {
      "text/plain": [
       "Text(0.5, 1.0, 'Unit disk in the p-th norm, $p=inf$')"
      ]
     },
     "execution_count": 21,
     "metadata": {},
     "output_type": "execute_result"
    },
    {
     "data": {
      "image/png": "[encoded data removed]",
      "text/plain": [
       "<Figure size 640x480 with 1 Axes>"
      ]
     },
     "metadata": {},
     "output_type": "display_data"
    }
   ],
   "source": [
    "%matplotlib inline\n",
    "import matplotlib.pyplot as plt\n",
    "import numpy as np\n",
    "p = np.inf # Which norm do we use\n",
    "M = 40000 # Number of sampling points\n",
    "a = np.random.randn(M, 2)\n",
    "b = []\n",
    "for i in range(M):\n",
    "    if np.linalg.norm(a[i, :], p) <= 1:\n",
    "        b.append(a[i, :])\n",
    "b = np.array(b)\n",
    "plt.plot(b[:, 0], b[:, 1], '.')\n",
    "plt.axis('equal')\n",
    "plt.title('Unit disk in the p-th norm, $p={0:}$'.format(p))"
   ]
  },
  {
   "cell_type": "markdown",
   "id": "f794d6c2",
   "metadata": {
    "slideshow": {
     "slide_type": "slide"
    }
   },
   "source": [
    "## Почему $L_1$ норма может быть важна?\n",
    "\n",
    "$L_1$ норма играет важную роль в задаче **compressed sensing**. \n",
    "\n",
    "Простейшая формулировка этой задачи следующая:\n",
    "\n",
    "- Даны некоторые наблюдения $f$ \n",
    "- Известно, что модель получения наблюдений линейная $Ax = f$, где $A$ – это $n \\times m$ известная матрица\n",
    "- Число уравнений $n$ меньше, чем число неизвестных $m$\n",
    "\n",
    "**Q**: можем ли мы найти решение такой системы?"
   ]
  },
  {
   "cell_type": "markdown",
   "id": "b3c8f5f2",
   "metadata": {
    "slideshow": {
     "slide_type": "fragment"
    }
   },
   "source": [
    "Решение, очевидно, не единственно, поэтому естественный подход – это искать решение минимальное в некотором смысле:\n",
    "\n",
    "\\begin{align*}\n",
    "& \\Vert x \\Vert \\rightarrow \\min_x \\\\\n",
    "\\mbox{subject to } & Ax = f\n",
    "\\end{align*}\n",
    "\n",
    "- Выбор стандартной евклидовой нормы $\\Vert x \\Vert = \\Vert x \\Vert_2$ приводит к **линейной задаче наименьших квадратов**  \n",
    "\n",
    "- Выбор первой нормы $\\Vert x \\Vert = \\Vert x \\Vert_1$ приводит к задаче [**compressed sensing**](https://en.wikipedia.org/wiki/Compressed_sensing)\n",
    "- Обычно решение этой задачи является наиболее **разреженным** (sparse) решением данной системы "
   ]
  },
  {
   "cell_type": "markdown",
   "id": "d3594a7e",
   "metadata": {
    "slideshow": {
     "slide_type": "slide"
    }
   },
   "source": [
    "### Условие RIP\n",
    "\n",
    "- s-restricted isometry property (RIP) выполнено для матрицы $A \\in \\mathbb{R}^{m \\times n}$, если существует $\\delta_s \\in (0, 1)$ такая что для любой подматрицы $A_s \\in \\mathbb{R}^{m \\times s}$ выполнено\n",
    "\n",
    "$$ (1 - \\delta_s)\\|y\\|_2^2 \\leq \\|A_s y\\|_2^2 \\leq (1 + \\delta_s) \\|y\\|_2^2  $$\n",
    "\n",
    "- Показано, что с высокой вероятностью такое условие выполнено для случайных матриц\n",
    "\n",
    "- Связь между RIP-условием и решением задачи минимизации $\\ell_1$-нормы показана [тут](https://onlinelibrary.wiley.com/doi/abs/10.1002/cpa.20124?casa_token=Oi_lDpUt4nYAAAAA:IPceNxxhCcFEth6EuuDJO-YVfg5xJmT4xUmTLZDkoL02aYzg2SMcAV13dJAkA11WWw3xmThkoYcHZGlr)"
   ]
  },
  {
   "cell_type": "markdown",
   "id": "c405d76a",
   "metadata": {
    "slideshow": {
     "slide_type": "slide"
    }
   },
   "source": [
    "## Что такое устойчивый алгоритм?\n",
    "\n",
    "Введём понятия **устойчивости** алгоритма.\n",
    "\n",
    "- Пусть $x$ некоторый объект, с которым производят операции (например, вектор)\n",
    "- Пусть $f(x)$ функция от этого объекта, которую необходимо вычислить \n",
    "\n",
    "Также имеется **вычислительный алгоритм** ``alg(x)``, который вычисляет некоторую аппроксимацию функции $f(x)$.  \n",
    "\n",
    "Будем называть алгоритм **forward stable**, если \n",
    "\n",
    "$$\\Vert alg(x) - f(x) \\Vert  \\leq \\varepsilon $$  \n",
    "\n",
    "Будем называть алгоритм **backward stable**, если для любого $x$ найдётся близкий вектор $x + \\delta x$ такой что\n",
    "\n",
    "$$alg(x) = f(x + \\delta x)$$\n",
    "\n",
    "и $\\Vert \\delta x \\Vert$ мало."
   ]
  },
  {
   "cell_type": "markdown",
   "id": "54483014",
   "metadata": {
    "slideshow": {
     "slide_type": "slide"
    }
   },
   "source": [
    "## Классический пример\n",
    "\n",
    "Классическим примером для демонстрации (не)устойчивости алгоритма является задача решения системы линейных уравнений с помощью метода Гаусса, который связан с вычислением LU разложения матрицы (подробности будут далее).\n",
    "\n",
    "Рассмотрим **матрицу Гильберта** с элементами\n",
    "\n",
    "$$A = \\{a_{ij}\\}, \\quad a_{ij} = \\frac{1}{i + j + 1}, \\quad i,j = 0, \\ldots, n-1.$$\n",
    "\n",
    "и соответствующую линейную систему с этой матрицей\n",
    "\n",
    "$$Ax = f.$$"
   ]
  },
  {
   "cell_type": "code",
   "execution_count": 25,
   "id": "d032f830",
   "metadata": {
    "scrolled": false,
    "slideshow": {
     "slide_type": "slide"
    }
   },
   "outputs": [
    {
     "name": "stdout",
     "output_type": "stream",
     "text": [
      "15.469887864248868\n"
     ]
    }
   ],
   "source": [
    "import numpy as np\n",
    "n = 100\n",
    "a = [[1.0/(i + j + 1) for i in range(n)] for j in range(n)] # Hilbert matrix\n",
    "A = np.array(a)\n",
    "rhs =  np.random.random(n)\n",
    "sol = np.linalg.solve(A, rhs)\n",
    "print(np.linalg.norm(A.dot(sol) - rhs)/np.linalg.norm(rhs))\n",
    "#plt.plot(sol)"
   ]
  },
  {
   "cell_type": "code",
   "execution_count": 26,
   "id": "e0e760bc",
   "metadata": {
    "slideshow": {
     "slide_type": "slide"
    }
   },
   "outputs": [
    {
     "name": "stdout",
     "output_type": "stream",
     "text": [
      "1.4706170310348663e-07\n"
     ]
    }
   ],
   "source": [
    "rhs =  np.ones(n)\n",
    "sol = np.linalg.solve(A, rhs)\n",
    "print(np.linalg.norm(A.dot(sol) - rhs)/np.linalg.norm(rhs))\n",
    "#plt.plot(sol)"
   ]
  },
  {
   "cell_type": "markdown",
   "id": "950cd5ea",
   "metadata": {
    "slideshow": {
     "slide_type": "slide"
    }
   },
   "source": [
    "## Другие примеры неустойчивости\n",
    "\n",
    "Какой вычислительно устойчивый способ вычисления следующих функций?\n",
    "\n",
    "- $\\log(1 - \\tanh^2(x))$\n",
    "- $SoftMax(x)_j = \\dfrac{e^{x_j}}{\\sum\\limits_{i=1}^n e^{x_i}}$  "
   ]
  },
  {
   "cell_type": "code",
   "execution_count": 27,
   "id": "ffef1f2f",
   "metadata": {
    "slideshow": {
     "slide_type": "slide"
    }
   },
   "outputs": [
    {
     "name": "stdout",
     "output_type": "stream",
     "text": [
      "Original function: -inf\n",
      "Attempt imporove stability with add small constant: -13.815510557964274\n",
      "Use more numerically stable form: -598.6137056388801\n"
     ]
    },
    {
     "name": "stderr",
     "output_type": "stream",
     "text": [
      "/var/folders/r2/8fwp8hwn29q_slh9d8yh34gc0000gn/T/ipykernel_6817/325375971.py:3: RuntimeWarning: divide by zero encountered in log\n",
      "  print(\"Original function:\", np.log(1 - np.tanh(u)**2))\n"
     ]
    }
   ],
   "source": [
    "u = 300\n",
    "eps = 1e-6\n",
    "print(\"Original function:\", np.log(1 - np.tanh(u)**2))\n",
    "eps_add = np.log(1 - np.tanh(u)**2 + eps)\n",
    "print(\"Attempt imporove stability with add small constant:\", eps_add)\n",
    "print(\"Use more numerically stable form:\", np.log(4) - 2 * np.log(np.exp(-u) + np.exp(u)))"
   ]
  },
  {
   "cell_type": "code",
   "execution_count": 28,
   "id": "3f85f060",
   "metadata": {
    "slideshow": {
     "slide_type": "slide"
    }
   },
   "outputs": [
    {
     "name": "stdout",
     "output_type": "stream",
     "text": [
      "[nan  0.  0.  0.  0.]\n",
      "[1. 0. 0. 0. 0.]\n"
     ]
    },
    {
     "name": "stderr",
     "output_type": "stream",
     "text": [
      "/var/folders/r2/8fwp8hwn29q_slh9d8yh34gc0000gn/T/ipykernel_6817/3690536116.py:4: RuntimeWarning: overflow encountered in exp\n",
      "  print(np.exp(x) / np.sum(np.exp(x)))\n",
      "/var/folders/r2/8fwp8hwn29q_slh9d8yh34gc0000gn/T/ipykernel_6817/3690536116.py:4: RuntimeWarning: invalid value encountered in true_divide\n",
      "  print(np.exp(x) / np.sum(np.exp(x)))\n"
     ]
    }
   ],
   "source": [
    "n = 5\n",
    "x = np.random.randn(n)\n",
    "x[0] = 1000\n",
    "print(np.exp(x) / np.sum(np.exp(x)))\n",
    "print(np.exp(x - np.max(x)) / np.sum(np.exp(x - np.max(x))))"
   ]
  },
  {
   "cell_type": "markdown",
   "id": "f461a210",
   "metadata": {
    "slideshow": {
     "slide_type": "slide"
    }
   },
   "source": [
    "## Краткое резюме\n",
    "\n",
    "- Векторные нормы: $1$, $p$ и евклидова норма \n",
    "- $L_1$ норма как спопособ получить разреженное решение, задача compressed sensing\n",
    "- Прямая (forward) и обратная (backward) устойчивость алгоритмов"
   ]
  },
  {
   "cell_type": "markdown",
   "id": "8a144b48",
   "metadata": {
    "slideshow": {
     "slide_type": "slide"
    }
   },
   "source": [
    "## Матрицы и матричные нормы\n",
    "\n",
    "- Векторные нормы позволяли измерить размер вектора и расстояние между векторами\n",
    "\n",
    "- Как обобщить эту концепцию на матрицы?\n",
    "\n",
    "- Если считать матрицу вектором, элементы которого переставлены в другом порядке, то мы по аналогии с евклидовой нормой вектора получим фробениусову норму матрицы:\n",
    "\n",
    "$$\n",
    "  \\Vert A \\Vert_F \\stackrel{\\mathrm{def}}{=} \\Big(\\sum_{i=1}^n \\sum_{j=1}^m |a_{ij}|^2\\Big)^{1/2}\n",
    "$$"
   ]
  },
  {
   "cell_type": "code",
   "execution_count": 57,
   "id": "5ab1b97b",
   "metadata": {
    "slideshow": {
     "slide_type": "slide"
    }
   },
   "outputs": [
    {
     "name": "stdout",
     "output_type": "stream",
     "text": [
      "1.743259410903991e-11\n",
      "[-8.88178420e-15 -1.59872116e-14  7.10542736e-15  1.95399252e-14\n",
      "  7.10542736e-15 -3.55271368e-15  0.00000000e+00 -7.10542736e-15\n",
      "  0.00000000e+00 -2.13162821e-14  7.99360578e-15 -3.55271368e-15\n",
      " -7.10542736e-15  1.24344979e-14  0.00000000e+00 -1.77635684e-14\n",
      "  7.10542736e-15 -2.84217094e-14  0.00000000e+00  2.13162821e-14\n",
      "  1.95399252e-14  0.00000000e+00  1.42108547e-14 -7.10542736e-15\n",
      " -3.55271368e-15  0.00000000e+00 -7.10542736e-15 -5.32907052e-15\n",
      " -7.10542736e-15 -1.42108547e-14 -8.88178420e-15 -2.66453526e-15\n",
      "  8.88178420e-15 -7.10542736e-15  1.77635684e-15  1.42108547e-14\n",
      " -7.10542736e-15 -7.10542736e-15 -2.30926389e-14  0.00000000e+00\n",
      "  8.88178420e-15  0.00000000e+00 -1.42108547e-14  1.42108547e-14\n",
      "  1.06581410e-14 -7.54951657e-15 -2.84217094e-14 -8.88178420e-15\n",
      "  4.44089210e-15  0.00000000e+00 -1.68753900e-14 -1.24344979e-14\n",
      "  2.66453526e-15  1.42108547e-14  1.77635684e-15  1.42108547e-14\n",
      " -2.84217094e-14  2.84217094e-14 -1.77635684e-15 -1.42108547e-14\n",
      "  0.00000000e+00 -1.42108547e-14 -1.42108547e-14 -1.77635684e-15\n",
      "  0.00000000e+00 -7.10542736e-15 -7.10542736e-15  7.10542736e-15\n",
      " -1.42108547e-14  0.00000000e+00  3.55271368e-15  3.55271368e-15\n",
      " -5.32907052e-15 -1.42108547e-14 -3.55271368e-15 -1.42108547e-14\n",
      "  1.77635684e-14  0.00000000e+00  1.06581410e-14 -1.42108547e-14\n",
      " -7.10542736e-15 -1.42108547e-14  2.84217094e-14 -2.13162821e-14\n",
      "  2.48689958e-14  3.55271368e-15  1.42108547e-14 -5.32907052e-15\n",
      " -5.32907052e-15 -1.42108547e-14  2.13162821e-14 -3.55271368e-15\n",
      "  7.46069873e-14  7.10542736e-15 -1.77635684e-14 -1.77635684e-14\n",
      " -1.06581410e-14  3.55271368e-15  3.55271368e-15 -1.77635684e-14\n",
      "  0.00000000e+00  0.00000000e+00  1.77635684e-14  2.13162821e-14\n",
      "  0.00000000e+00 -3.55271368e-15  1.15463195e-14  1.06581410e-14\n",
      " -7.10542736e-15  0.00000000e+00 -7.10542736e-15  0.00000000e+00\n",
      " -1.42108547e-14 -7.10542736e-15  0.00000000e+00 -1.06581410e-14\n",
      "  1.06581410e-14  1.06581410e-14 -1.59872116e-14 -1.42108547e-14\n",
      "  0.00000000e+00  2.66453526e-15 -1.42108547e-14 -2.66453526e-15\n",
      " -1.42108547e-14 -1.42108547e-14  2.13162821e-14 -2.84217094e-14\n",
      " -2.84217094e-14 -7.10542736e-15 -7.10542736e-15  2.84217094e-14\n",
      " -3.19744231e-14 -1.06581410e-14 -2.66453526e-15 -3.55271368e-15\n",
      "  2.48689958e-14 -1.33226763e-15 -5.32907052e-15  1.42108547e-14\n",
      " -1.77635684e-15  3.55271368e-15 -1.77635684e-14  5.32907052e-15\n",
      "  7.10542736e-15 -7.10542736e-15 -7.10542736e-15  1.42108547e-14\n",
      "  0.00000000e+00 -1.06581410e-14  3.55271368e-15  1.77635684e-15\n",
      " -7.10542736e-15  1.24344979e-14  3.01980663e-14 -7.10542736e-15\n",
      "  2.84217094e-14  7.10542736e-15  7.10542736e-15 -1.77635684e-15\n",
      " -1.42108547e-14  2.13162821e-14  0.00000000e+00 -1.42108547e-14\n",
      "  1.42108547e-14  2.13162821e-14  1.06581410e-14 -7.10542736e-15\n",
      "  1.06581410e-14  1.77635684e-15 -7.10542736e-15 -1.06581410e-14\n",
      " -7.10542736e-15  2.84217094e-14 -7.10542736e-15  1.42108547e-14\n",
      "  0.00000000e+00  2.13162821e-14  0.00000000e+00  3.10862447e-14\n",
      "  0.00000000e+00  7.10542736e-15 -1.42108547e-14  7.10542736e-15\n",
      "  1.42108547e-14  3.55271368e-15  0.00000000e+00  1.77635684e-14\n",
      " -2.84217094e-14  1.42108547e-14  1.42108547e-14 -1.42108547e-14\n",
      "  0.00000000e+00  7.10542736e-15 -3.55271368e-15 -7.10542736e-15\n",
      " -2.48689958e-14  1.42108547e-14 -2.84217094e-14  0.00000000e+00\n",
      " -3.55271368e-15  7.10542736e-15 -3.55271368e-15  0.00000000e+00\n",
      " -1.06581410e-14  1.77635684e-15 -4.44089210e-15 -8.88178420e-15\n",
      " -1.06581410e-14 -1.42108547e-14 -1.77635684e-15  1.24344979e-14\n",
      "  1.77635684e-14 -1.42108547e-14 -3.55271368e-15  0.00000000e+00\n",
      "  0.00000000e+00  2.48689958e-14  0.00000000e+00  2.84217094e-14\n",
      "  1.42108547e-14  1.42108547e-14  1.77635684e-14  1.06581410e-14\n",
      "  0.00000000e+00 -2.84217094e-14  7.10542736e-15 -7.10542736e-15\n",
      "  1.06581410e-14  7.10542736e-15 -1.42108547e-14  1.59872116e-14\n",
      "  3.55271368e-15 -1.06581410e-14  1.42108547e-14  3.19744231e-14\n",
      " -1.42108547e-14 -1.77635684e-14  2.48689958e-14  0.00000000e+00\n",
      " -1.77635684e-14  2.48689958e-14 -7.10542736e-15  1.77635684e-15\n",
      "  7.10542736e-15  0.00000000e+00  0.00000000e+00  2.13162821e-14\n",
      " -7.10542736e-15 -3.55271368e-15  7.10542736e-15 -1.06581410e-14\n",
      " -3.55271368e-15 -7.10542736e-15  0.00000000e+00 -2.84217094e-14\n",
      " -2.13162821e-14 -7.10542736e-15  0.00000000e+00 -7.10542736e-15\n",
      " -1.42108547e-14 -1.42108547e-14 -1.42108547e-14 -5.32907052e-15\n",
      "  7.10542736e-15  3.55271368e-15  1.42108547e-14 -7.10542736e-15\n",
      "  7.10542736e-15  0.00000000e+00  1.77635684e-15 -1.42108547e-14\n",
      "  2.84217094e-14 -3.55271368e-15 -1.77635684e-14  3.55271368e-15\n",
      "  7.10542736e-15  0.00000000e+00  0.00000000e+00  1.77635684e-14\n",
      "  1.06581410e-14 -1.42108547e-14 -1.77635684e-15  7.10542736e-15\n",
      "  0.00000000e+00 -5.32907052e-15 -2.84217094e-14 -1.42108547e-14\n",
      "  7.10542736e-15 -5.32907052e-15  3.55271368e-15  0.00000000e+00\n",
      " -4.26325641e-14  1.77635684e-15 -1.42108547e-14 -1.06581410e-14\n",
      "  2.84217094e-14  4.44089210e-15  7.10542736e-15 -4.26325641e-14\n",
      " -1.42108547e-14  7.10542736e-15 -5.32907052e-15 -2.84217094e-14\n",
      " -8.88178420e-15 -2.13162821e-14  3.55271368e-14 -1.06581410e-14\n",
      "  7.10542736e-15  3.55271368e-15 -1.06581410e-14  1.06581410e-14\n",
      " -3.55271368e-15 -5.32907052e-15  2.13162821e-14 -7.10542736e-15\n",
      "  4.26325641e-14 -1.42108547e-14  1.42108547e-14  0.00000000e+00\n",
      "  7.10542736e-15  1.42108547e-14  1.42108547e-14 -1.50990331e-14\n",
      "  8.88178420e-15  2.84217094e-14 -7.10542736e-15  1.06581410e-14\n",
      "  7.10542736e-15  1.24344979e-14 -3.55271368e-15  3.55271368e-15\n",
      "  7.10542736e-15 -3.55271368e-15  0.00000000e+00  1.42108547e-14\n",
      "  0.00000000e+00 -2.13162821e-14 -3.90798505e-14  0.00000000e+00\n",
      " -1.06581410e-14  1.42108547e-14  1.77635684e-15  0.00000000e+00\n",
      "  7.10542736e-15  2.48689958e-14  1.06581410e-14  0.00000000e+00\n",
      " -5.32907052e-15 -7.10542736e-15 -1.77635684e-15  1.68753900e-14\n",
      "  0.00000000e+00  7.10542736e-15  1.42108547e-14  0.00000000e+00\n",
      " -1.06581410e-14 -8.88178420e-15  7.10542736e-15 -1.24344979e-14\n",
      "  1.77635684e-15  2.13162821e-14 -1.77635684e-15 -1.59872116e-14\n",
      "  1.42108547e-14 -2.13162821e-14 -3.55271368e-15 -3.55271368e-15\n",
      " -1.42108547e-14  0.00000000e+00 -1.42108547e-14  1.06581410e-14\n",
      " -1.42108547e-14 -5.32907052e-14 -7.10542736e-15 -1.77635684e-15\n",
      "  7.10542736e-15 -3.55271368e-15  2.84217094e-14 -1.42108547e-14\n",
      "  7.10542736e-15 -7.10542736e-15  7.10542736e-15  1.77635684e-14\n",
      "  1.42108547e-14  2.30926389e-14 -1.42108547e-14  1.24344979e-14\n",
      " -1.28785871e-14  1.77635684e-15  2.13162821e-14 -1.06581410e-14\n",
      "  1.42108547e-14  3.55271368e-15  3.55271368e-15  1.42108547e-14\n",
      "  7.99360578e-15  1.77635684e-15  1.77635684e-15  3.55271368e-15\n",
      "  0.00000000e+00  0.00000000e+00 -1.42108547e-14  1.42108547e-14\n",
      " -3.55271368e-15 -7.10542736e-15  1.42108547e-14  1.42108547e-14\n",
      " -1.06581410e-14  1.06581410e-14 -1.77635684e-15 -1.42108547e-14\n",
      "  4.44089210e-15  1.77635684e-15  0.00000000e+00  7.10542736e-15\n",
      " -1.42108547e-14 -3.55271368e-15 -5.77315973e-15  5.32907052e-15\n",
      " -7.10542736e-15 -1.06581410e-14 -3.55271368e-15  7.10542736e-15\n",
      "  3.55271368e-15 -2.84217094e-14  1.42108547e-14  7.10542736e-15\n",
      "  0.00000000e+00  2.48689958e-14  0.00000000e+00 -5.32907052e-15\n",
      "  7.10542736e-15  0.00000000e+00 -5.32907052e-15  2.13162821e-14\n",
      " -4.97379915e-14  2.13162821e-14 -1.42108547e-14  1.15463195e-14\n",
      "  3.55271368e-15  1.42108547e-14 -1.24344979e-14 -1.42108547e-14\n",
      "  1.42108547e-14  3.55271368e-15  3.55271368e-15 -3.55271368e-15\n",
      "  0.00000000e+00  1.24344979e-14  0.00000000e+00 -3.55271368e-15\n",
      "  7.10542736e-15 -2.48689958e-14  0.00000000e+00  7.10542736e-15\n",
      "  1.42108547e-14  1.06581410e-14  0.00000000e+00 -1.42108547e-14\n",
      "  0.00000000e+00  1.77635684e-14  1.42108547e-14 -7.10542736e-15\n",
      "  1.77635684e-15 -3.55271368e-15  0.00000000e+00  7.10542736e-15\n",
      " -1.55431223e-14  3.55271368e-15 -1.95399252e-14  8.88178420e-15\n",
      "  7.10542736e-15  0.00000000e+00 -8.88178420e-15  3.55271368e-15\n",
      "  0.00000000e+00  2.13162821e-14 -2.84217094e-14 -1.77635684e-14\n",
      " -2.13162821e-14  2.84217094e-14  1.42108547e-14  3.55271368e-15\n",
      "  1.42108547e-14 -2.13162821e-14  3.55271368e-15  7.10542736e-15\n",
      "  7.10542736e-15 -1.77635684e-15  1.42108547e-14 -1.06581410e-14\n",
      "  3.01980663e-14 -2.30926389e-14  0.00000000e+00  1.42108547e-14\n",
      " -1.24344979e-14 -3.55271368e-15  2.48689958e-14 -1.99840144e-15]\n"
     ]
    }
   ],
   "source": [
    "n = 500\n",
    "m = 1000\n",
    "A = np.array(np.random.randn(m, n), dtype=np.float64, order=\"F\")\n",
    "B = np.array(np.random.randn(n, m), dtype=np.float64, order=\"C\")\n",
    "print(np.linalg.norm(A @ B - np.einsum(\"ij,jk->ik\", A, B), \"fro\"))\n",
    "# %timeit np.matmul(A, B)\n",
    "# %timeit np.einsum(\"ij,jk->ik\", A, B, optimize=True)\n",
    "print(np.einsum(\"ij->j\", A) - np.sum(A, 0))"
   ]
  },
  {
   "cell_type": "markdown",
   "id": "100d0067",
   "metadata": {
    "slideshow": {
     "slide_type": "slide"
    }
   },
   "source": [
    "### Операция ```einsum``` и как её ускорить\n",
    "\n",
    "- Поиск оптимального порядка суммирования – NP-сложная задача\n",
    "- Используются разные эвристики: жадные алгоритмы, динамическое программирование и другие\n",
    "- Пакет [```opt-einsum```](https://optimized-einsum.readthedocs.io/en/stable/index.html) содержит реализации некоторых подходов к поиску суб-оптимального решения\n",
    "- На основе этой операции строят вероятностные модели и архитектуры нейросетей. [Пример такой модели](http://proceedings.mlr.press/v119/peharz20a/peharz20a.pdf)"
   ]
  },
  {
   "cell_type": "markdown",
   "id": "c89a498d",
   "metadata": {
    "slideshow": {
     "slide_type": "slide"
    }
   },
   "source": [
    "## Матричные нормы\n",
    "\n",
    "$\\Vert \\cdot \\Vert$ называется матричной нормой, если это векторная норма на векторном пространстве матриц размера $n \\times m$:\n",
    "1. $\\|A\\| \\geq 0$ и если $\\|A\\| = 0$ то $A = O$\n",
    "3. $\\|\\alpha A\\| = |\\alpha| \\|A\\|$\n",
    "4. $\\|A+B\\| \\leq \\|A\\| + \\|B\\|$ (неравенство треугольника)\n",
    "\n",
    "Дополнительно некоторые нормы обладают свойством субмультипликативности\n",
    "\n",
    "* <font color='red'> $\\Vert A B \\Vert \\leq \\Vert A \\Vert \\Vert B \\Vert$ </font>\n",
    "\n",
    "Эти нормы также называются **субмультипликативными нормами**.\n",
    "\n",
    "Это свойство необходимо во многих случаях, например для оценки ошибки решения линейной системы (позднее обсудим эту тему). \n",
    "\n",
    "Примером не субмультипликативной нормы является чебышёвская норма\n",
    "\n",
    "$$\n",
    "\\|A\\|_C = \\displaystyle{\\max_{i,j}}\\, |a_{ij}|\n",
    "$$"
   ]
  },
  {
   "cell_type": "markdown",
   "id": "7b4398ca",
   "metadata": {
    "slideshow": {
     "slide_type": "slide"
    }
   },
   "source": [
    "## Операторные нормы\n",
    "\n",
    "Наиболее важным классом матричных норм являются **операторные нормы**, которые определяются следующим образом\n",
    "\n",
    "$$\n",
    "    \\Vert A \\Vert_{*,**} = \\sup_{x \\ne 0} \\frac{\\Vert A x \\Vert_*}{\\Vert x \\Vert_{**}},\n",
    "$$\n",
    "\n",
    "где $\\Vert \\cdot \\Vert_*$ и $\\| \\cdot \\|_{**}$ **векторные нормы**.\n",
    "\n",
    "Легко проверить, что операторные нормы являются субмультипликативными."
   ]
  },
  {
   "cell_type": "markdown",
   "id": "35a22ece",
   "metadata": {
    "slideshow": {
     "slide_type": "slide"
    }
   },
   "source": [
    "## Матричные $p$-нормы\n",
    "\n",
    "Важный класс операторных норм – матричные $p$-нормы, которые определены для $\\|\\cdot\\|_* = \\|\\cdot\\|_{**} = \\|\\cdot\\|_p$. <br>\n",
    "\n",
    "Среди всех $p$-норм три нормы наиболее часто используются:  \n",
    "\n",
    "- $p = 1, \\quad \\Vert A \\Vert_{1} = \\displaystyle{\\max_j \\sum_{i=1}^n} |a_{ij}|$.\n",
    "\n",
    "- $p = 2, \\quad$ спектральная норма, обозначается как $\\Vert A \\Vert_2$.\n",
    "\n",
    "- $p = \\infty, \\quad \\Vert A \\Vert_{\\infty} = \\displaystyle{\\max_i \\sum_{j=1}^m} |a_{ij}|$.\n",
    "\n",
    "Покажем справедливость выражения для $p=\\infty$ на доске."
   ]
  },
  {
   "cell_type": "markdown",
   "id": "8e467251",
   "metadata": {
    "slideshow": {
     "slide_type": "slide"
    }
   },
   "source": [
    "## Спектральная норма\n",
    "\n",
    "- Спектральная норма, $\\Vert A \\Vert_2$, одна из наиболее часто используемых, наряду с нормой Фробениуса\n",
    "- Она не может быть вычислена напрямую через элементы матрицы, но для её вычисления существуют эффективные алгоритмы\n",
    "- Она напрямую связана с сингулярным разложением матрицы (SVD) поскольку выполнено следующее равенство\n",
    "\n",
    "$$\n",
    "   \\Vert A \\Vert_2 = \\sigma_1(A) = \\sqrt{\\lambda_\\max(A^*A)}\n",
    "$$\n",
    "\n",
    "где $\\sigma_1(A)$ – максимальное сингулярное число матрицы $A$. \n",
    "\n",
    "- Подробнее про SVD будет рассказано далее, а сейчас давайте вычислим все вышеупомянутые нормы"
   ]
  },
  {
   "cell_type": "code",
   "execution_count": 58,
   "id": "20ef4683",
   "metadata": {
    "slideshow": {
     "slide_type": "slide"
    }
   },
   "outputs": [
    {
     "name": "stdout",
     "output_type": "stream",
     "text": [
      "Spectral: 54.38316420280145 \n",
      "Frobenius: 447.99261791669227 \n",
      "1-norm: 99.42713514068033 \n",
      "infinity: 1661.865999847475\n"
     ]
    }
   ],
   "source": [
    "import numpy as np\n",
    "n = 100\n",
    "m = 2000\n",
    "a = np.random.randn(n, m) # Random n x n matrix\n",
    "s1 = np.linalg.norm(a, 2) # Spectral\n",
    "s2 = np.linalg.norm(a, 'fro') # Frobenius\n",
    "s3 = np.linalg.norm(a, 1) # 1-norm\n",
    "s4 = np.linalg.norm(a, np.inf) \n",
    "print('Spectral: {0:} \\nFrobenius: {1:} \\n1-norm: {2:} \\ninfinity: {3:}'.format(s1, s2, s3, s4))"
   ]
  },
  {
   "cell_type": "markdown",
   "id": "82afc99b",
   "metadata": {
    "slideshow": {
     "slide_type": "slide"
    }
   },
   "source": [
    "## Примеры\n",
    "\n",
    "Несколько примеров задач оптимизации, в которых необходимы матричные нормы:\n",
    "* <font color='red'> $\\displaystyle{\\min_{\\mathrm{rank}(A_r)=r}}\\| A - A_r\\|$ </font> – задача нахождения наилучшей малоранговой аппроксимации матрицы $A$. SVD помогает решить эту задачу для спектральной нормы $\\|\\cdot\\|_2$ и фробениусовой нормы $\\|\\cdot\\|_F$.\n",
    "\n",
    "\n",
    "* $\\displaystyle{\\min_B}\\| P_\\Omega \\odot(A - B)\\| + \\lambda \\cdot \\mathrm{rank}(B)$ –– задача заполнения матрицы (matrix completion problem). \n",
    "$$\n",
    "(P_\\Omega)_{ij} = \\begin{cases} 1 & i,j\\in\\Omega \\\\ 0 & \\text{otherwise} \\end{cases}\n",
    "$$\n",
    "$\\odot$ обозначает произведение Адамара (поэлементное)\n",
    "\n",
    "\n",
    "* $\\displaystyle{\\min_{B\\geq 0,C\\geq 0}} \\|A - BC\\|$ –– неотрицательное матричное разложение (nonnegative matrix factorization). Запись $B\\geq0$ означает, что все элементы $B$ неотрицательны."
   ]
  },
  {
   "cell_type": "markdown",
   "id": "98232b3e",
   "metadata": {
    "slideshow": {
     "slide_type": "slide"
    }
   },
   "source": [
    "## Скалярное произведение\n",
    "\n",
    "Если норма помогает измерять расстояние, то **скалярное произведение** позволяет учесть угол между объектами.  \n",
    "\n",
    "Скалярное произведение определено\n",
    "\n",
    "* **для векторов:**\n",
    "$$\n",
    "   (x, y) =  x^{\\top} y = \\sum_{i=1}^n x_i y_i.\n",
    "$$\n",
    "Тогда евклидова норма записывается как\n",
    "$$\n",
    "   \\Vert x \\Vert_2 = \\sqrt{(x, x)};\n",
    "$$  \n",
    "\n",
    "\n",
    "* **для матриц**:\n",
    "$$\n",
    "    (A, B)_F = \\displaystyle{\\sum_{i=1}^{n}\\sum_{j=1}^{m}} a_{ij} b_{ij} \\equiv \\mathrm{trace}(A^{\\top} B),\n",
    "$$\n",
    "где $\\mathrm{trace}(A)$ обозначает след матрицы, то есть сумму диагональных элементов. \n",
    "\n",
    "**Упражнение:** покажите, что $\\|A\\|_F = \\sqrt{(A, A)_F}$."
   ]
  },
  {
   "cell_type": "markdown",
   "id": "a3501970",
   "metadata": {
    "slideshow": {
     "slide_type": "slide"
    }
   },
   "source": [
    "**Замечание**. Угол между векторами или матрицами определяется как\n",
    "\n",
    "$$\n",
    "   \\cos \\phi = \\frac{(x, y)}{\\Vert x \\Vert_2 \\Vert y \\Vert_2}.\n",
    "$$"
   ]
  },
  {
   "cell_type": "markdown",
   "id": "bed7d298",
   "metadata": {
    "slideshow": {
     "slide_type": "slide"
    }
   },
   "source": [
    "## Матрицы, сохраняющие норму\n",
    "\n",
    "- Для устойчивости вычислений необходимо, чтобы ошибка не возростала после применения некоторого преобразования. Найдём эти преобразования. \n",
    "\n",
    "- Пусть дан вектор $\\widehat{x}$ – аппроксимация вектора $x$ такая что,  \n",
    "\n",
    "$$\n",
    "  \\frac{\\Vert x - \\widehat{x} \\Vert}{\\Vert x \\Vert} \\leq \\varepsilon.\n",
    "$$\n",
    "\n",
    "- Вычислим образ векторов $x$ и $\\widehat{x}$ после применения линейного преобразования $U$:  \n",
    "\n",
    "$$\n",
    "   y = U x, \\quad \\widehat{y} = U \\widehat{x}.\n",
    "$$\n",
    "\n",
    "- Для построения алгоритмов необходимо использовать преобразования, которые не увеличивают (или даже сохраняют) ошибку:\n",
    "\n",
    "$$\n",
    "   \\frac{\\Vert y - \\widehat{y} \\Vert}{\\Vert y \\Vert } = \\frac{\\Vert U ( x - \\widehat{x}) \\Vert}{\\Vert U  x\\Vert}  \\leq \\varepsilon.\n",
    "$$"
   ]
  },
  {
   "cell_type": "markdown",
   "id": "a18124e6",
   "metadata": {
    "slideshow": {
     "slide_type": "slide"
    }
   },
   "source": [
    "Вопрос состоит в том, какой класс матриц не меняет норму вектора после умножения матрицы из этого класса на вектор?\n",
    "\n",
    "$$\n",
    "\\frac{\\Vert U ( x - \\widehat{x}) \\Vert}{\\Vert U  x\\Vert} = \\frac{ \\|x - \\widehat{x}\\|}{\\|x\\|}.\n",
    "$$\n",
    "\n",
    "Для евклидовой нормы $\\|\\cdot\\|_2$ таким свойством обладают **унитарные** (или ортогональные) матрицы."
   ]
  },
  {
   "cell_type": "markdown",
   "id": "f5248429",
   "metadata": {
    "slideshow": {
     "slide_type": "slide"
    }
   },
   "source": [
    "## Унитарные (ортогональные) матрицы\n",
    "\n",
    "Пусть $U$ комплексная $n \\times n$ матрица, и $\\Vert U z \\Vert_2 = \\Vert z \\Vert_2$ для вех $z$. \n",
    "\n",
    "Это выполнено тогда и только тогда, когда\n",
    "\n",
    "$$\n",
    "   U^* U = I_n,\n",
    "$$\n",
    "\n",
    "где $I_n$ единичная матрица $n\\times n$.\n",
    "\n",
    "Комплексная $n\\times n$ квадратная матрица называется **унитарной** если\n",
    "\n",
    "$$\n",
    "    U^*U = UU^* = I_n,\n",
    "$$\n",
    "\n",
    "что означает, что столбцы и строки матрицы образуют базис в $\\mathbb{C}^{n}$."
   ]
  },
  {
   "cell_type": "markdown",
   "id": "af251d71",
   "metadata": {
    "slideshow": {
     "slide_type": "slide"
    }
   },
   "source": [
    "## Свойство ортогональных матриц\n",
    "\n",
    "Произведение двух унитарных матриц – унитарная матрица:  \n",
    "\n",
    "$$(UV)^* UV = V^* (U^* U) V = V^* V = I,$$\n",
    "\n",
    "- Позже мы покажем, что существуют классы унитарных матриц, произведение которых может дать произвольную унитарную матрицу \n",
    "- Эта идея лежит в основе некоторых алгоритмов, например вычисления QR разложения"
   ]
  },
  {
   "cell_type": "markdown",
   "id": "c355115e",
   "metadata": {
    "slideshow": {
     "slide_type": "slide"
    }
   },
   "source": [
    "## Примеры  унитарных матриц\n",
    "\n",
    "Два важных класса унитарных матриц, произведение которых может дать любую унитарную матрицу:\n",
    "1. Матрицы Хаусхолдера\n",
    "2. Матрицы Гивенса\n",
    "\n",
    "Этот факт станет очевидным после того, как мы рассмотрим QR разложение и способы его вычисления.\n",
    "\n",
    "Другие важные примеры\n",
    "* **матрица перестановки** $P$ строки (столбцы) которой получены перестановкой строк (столбцов) единичной матрицы.\n",
    "* **матрица Фурье** $F_n = \\frac{1}{\\sqrt{n}} \\left\\{ e^{-i\\frac{2\\pi kl}{n}}\\right\\}_{k,l=0}^{n-1}$"
   ]
  },
  {
   "cell_type": "markdown",
   "id": "ec74b8fd",
   "metadata": {
    "slideshow": {
     "slide_type": "slide"
    }
   },
   "source": [
    "## Матрица Хаусхолдера\n",
    "\n",
    "Матрица Хаусхолдера – это матрица вида \n",
    "\n",
    "$$H \\equiv H(v) = I - 2 vv^*,$$\n",
    "\n",
    "где $v$ – $n \\times 1$ вектор и $v^* v = 1$. Покажите, что $H$ унитарна и Эрмитова. Это также матрица отражения относительно плоскости с нормалью $v$:\n",
    "\n",
    "$$ Hx = x - 2(v^* x) v$$\n",
    "\n",
    "<img src=\"./householder.jpeg\" width=2000>  "
   ]
  },
  {
   "cell_type": "markdown",
   "id": "7f4e3762",
   "metadata": {
    "slideshow": {
     "slide_type": "slide"
    }
   },
   "source": [
    "## Важное свойство матрицы Хаусхолдера\n",
    "\n",
    "Преобразование Хаусхолдера может занулить все элементы в столбце матрицы, кроме первого:\n",
    "\n",
    "$$\n",
    "    H \\begin{bmatrix} \\times \\\\ \\times \\\\ \\times \\\\ \\times  \\end{bmatrix} = \n",
    "      \\begin{bmatrix} \\times \\\\ 0 \\\\ 0 \\\\ 0  \\end{bmatrix}.\n",
    "$$\n",
    "\n",
    "Давайте это докажем."
   ]
  },
  {
   "cell_type": "code",
   "execution_count": 76,
   "id": "0b8398ca",
   "metadata": {
    "slideshow": {
     "slide_type": "slide"
    }
   },
   "outputs": [
    {
     "name": "stdout",
     "output_type": "stream",
     "text": [
      "[0.99056464 0.13704632]\n",
      "0.9999999999999999\n",
      "[ 4.70251812e-01 -1.09223839e-17]\n",
      "0.4702518116253954\n",
      "0.4702518116253954\n"
     ]
    }
   ],
   "source": [
    "n = 2\n",
    "x = np.random.randn(n)\n",
    "\n",
    "v = x.copy()\n",
    "norm_x = np.linalg.norm(x)\n",
    "v[0] -= norm_x\n",
    "v /= -np.sqrt(2 * (norm_x**2 - x[0] * (norm_x)))\n",
    "print(v)\n",
    "print(np.linalg.norm(v))\n",
    "H = np.eye(n) - 2 * np.outer(v, v)\n",
    "y = H @ x\n",
    "print(y)\n",
    "print(y[0])\n",
    "print(np.linalg.norm(y, 1))\n",
    "\n",
    "\n",
    "# %timeit H @ x\n",
    "# %timeit x - 2 * v * np.inner(v, x)"
   ]
  },
  {
   "cell_type": "markdown",
   "id": "16be4aed",
   "metadata": {
    "slideshow": {
     "slide_type": "slide"
    }
   },
   "source": [
    "## Матрица Гивенса\n",
    "\n",
    "Матрица Гивенса имеет вид\n",
    "\n",
    "$$\n",
    "    G = \\begin{bmatrix}\n",
    "          \\cos \\alpha & -\\sin \\alpha \\\\\n",
    "          \\sin \\alpha & \\cos \\alpha\n",
    "        \\end{bmatrix},\n",
    "$$\n",
    "\n",
    "что является поворотом на угол $\\alpha$ на плоскости. В общем случае, выберем две плоскости $(i, j)$ и повернём вектор $x$  \n",
    "\n",
    "$$\n",
    "x' = G x,\n",
    "$$\n",
    "\n",
    "только в $i$-ой и $j$-ой координатах:\n",
    "\n",
    "$$\n",
    "    x'_i =  x_i\\cos \\alpha - x_j\\sin \\alpha , \\quad x'_j = x_i \\sin \\alpha  +  x_j\\cos\\alpha,\n",
    "$$\n",
    "\n",
    "и оставим остальные координаты $x_i$ неизменными.\n",
    "\n",
    "Поэтому мы можем занулить элемент в позиции $j$, если выберем $\\alpha$ так что\n",
    "\n",
    "$$\n",
    "     \\cos \\alpha = \\frac{x_i}{\\sqrt{x_i^2 + x_j^2}}, \\quad \\sin \\alpha = -\\frac{x_j}{\\sqrt{x_i^2 + x_j^2}}\n",
    "$$"
   ]
  },
  {
   "cell_type": "code",
   "execution_count": 60,
   "id": "af73b2b5",
   "metadata": {
    "slideshow": {
     "slide_type": "slide"
    }
   },
   "outputs": [
    {
     "data": {
      "text/plain": [
       "(-1.0, 1.0)"
      ]
     },
     "execution_count": 60,
     "metadata": {},
     "output_type": "execute_result"
    },
    {
     "data": {
      "image/png": "[encoded data removed]",
      "text/plain": [
       "<Figure size 640x480 with 1 Axes>"
      ]
     },
     "metadata": {},
     "output_type": "display_data"
    }
   ],
   "source": [
    "import numpy as np\n",
    "import matplotlib.pyplot as plt\n",
    "%matplotlib inline\n",
    "\n",
    "alpha = -3*np.pi / 4\n",
    "G = np.array([\n",
    "    [np.cos(alpha), -np.sin(alpha)],\n",
    "    [np.sin(alpha), np.cos(alpha)]\n",
    "])\n",
    "x = np.array([-1./np.sqrt(2), 1./np.sqrt(2)])\n",
    "y = G.dot(x)\n",
    "\n",
    "plt.quiver([0, 0], [0, 0], [x[0], y[0]], [x[1], y[1]], angles='xy', scale_units='xy', scale=1)\n",
    "plt.xlim(-1., 1.)\n",
    "plt.ylim(-1., 1.)"
   ]
  },
  {
   "cell_type": "markdown",
   "id": "6e9115c1",
   "metadata": {
    "slideshow": {
     "slide_type": "slide"
    }
   },
   "source": [
    "## Промежуточный итог\n",
    "\n",
    "- Матрицы и матричные нормы\n",
    "- Унитарные (ортогональные) матрицы\n",
    "- Примеры унитарных матриц: матрицы отражений (Хаусхолдера) и поворота (Гивенса)"
   ]
  }
 ],
 "metadata": {
  "celltoolbar": "Slideshow",
  "kernelspec": {
   "display_name": "Python 3 (ipykernel)",
   "language": "python",
   "name": "python3"
  },
  "language_info": {
   "codemirror_mode": {
    "name": "ipython",
    "version": 3
   },
   "file_extension": ".py",
   "mimetype": "text/x-python",
   "name": "python",
   "nbconvert_exporter": "python",
   "pygments_lexer": "ipython3",
   "version": "3.10.6"
  }
 },
 "nbformat": 4,
 "nbformat_minor": 5
}
