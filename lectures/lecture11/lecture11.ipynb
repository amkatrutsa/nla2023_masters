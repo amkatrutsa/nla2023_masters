{
 "cells": [
  {
   "cell_type": "markdown",
   "metadata": {
    "slideshow": {
     "slide_type": "slide"
    }
   },
   "source": [
    "# Лекция 11.  Тензоры и тензорные разложения"
   ]
  },
  {
   "cell_type": "markdown",
   "metadata": {
    "slideshow": {
     "slide_type": "slide"
    }
   },
   "source": [
    "## План на сегодня\n",
    "\n",
    "- Тензоры\n",
    "- Тензорные разложения\n",
    "- Приложения тензорных разложений"
   ]
  },
  {
   "cell_type": "markdown",
   "metadata": {
    "slideshow": {
     "slide_type": "slide"
    }
   },
   "source": [
    "## Тензоры\n",
    "\n",
    "Будем называть тензором многомерный массив:\n",
    "\n",
    "$$\n",
    "A(i_1, \\dots, i_d), \\quad 1\\leq i_k\\leq n_k,\n",
    "$$\n",
    "\n",
    "где $d$ называется размерностью, а $n_k$ количеством мод.\n",
    "Это стандартное определение в сообществе прикладных математиков, более подробно смотрите в [[1]](http://arxiv.org/pdf/1302.7121.pdf) и [[2]](http://epubs.siam.org/doi/abs/10.1137/090752286).\n",
    "\n",
    "* $d=2$ (матрицы) $\\Rightarrow$ классическая теория (SVD, LU, QR, $\\dots$)\n",
    "\n",
    "* $d\\geq 3$ (тензоры) $\\Rightarrow$ в стадии разработки. Обобщение стандартных результатов для матриц не является **прямолинейным**.\n",
    "<img src=\"./tensor_dogs.png\">\n",
    "\n",
    "Изображение из [этой презентации](http://users.cecs.anu.edu.au/~koniusz/tensors-cvpr17/present/anandkumar_anima_tmcv2017.pdf)"
   ]
  },
  {
   "cell_type": "markdown",
   "metadata": {
    "slideshow": {
     "slide_type": "slide"
    }
   },
   "source": [
    "## Более формальное определение\n",
    "\n",
    "- Тензор - это мультилинейная форма.\n",
    "- Когда вы фиксируете базис, то получаете $d$-мерный массив."
   ]
  },
  {
   "cell_type": "markdown",
   "metadata": {
    "slideshow": {
     "slide_type": "slide"
    }
   },
   "source": [
    "## Проклятие размерности\n",
    "\n",
    "Проблема в работе с многомерными данными в том, что число параметров растёт <font color='red'> экспоненциально </font> с ростом $d$:\n",
    "\n",
    "\n",
    "$$\n",
    "    \\text{storage} = n^d.\n",
    "$$\n",
    "\n",
    "Например, для $n=2$ и $d=500$\n",
    "$$\n",
    "    n^d = 2^{500} \\gg 10^{83}  -  \\text{ число атомов во вселенной}\n",
    "$$\n",
    "\n",
    "- Почему нас это волнует? Кажется, что мы живём в трёхмерном мире :)"
   ]
  },
  {
   "cell_type": "markdown",
   "metadata": {
    "slideshow": {
     "slide_type": "slide"
    }
   },
   "source": [
    "## Приложения\n",
    "\n",
    "#### Квантовая химия\n",
    "\n",
    "Стационарное уравнение Шрёдингера для системы с $N_{el}$ электронами\n",
    "\n",
    "$$\n",
    "    \\hat H \\Psi = E \\Psi,\n",
    "$$\n",
    "\n",
    "где\n",
    "\n",
    "$$\n",
    "\\Psi = \\Psi(\\{{\\bf r_1},\\sigma_1\\},\\dots, \\{{\\bf r_{N_{el}}},\\sigma_{N_{el}}\\})\n",
    "$$\n",
    "\n",
    "3$N_{el}$ пространственных переменных и $N_{el}$ спиновых переменных. \n",
    "<img src=\"./large_mol.jpg\" width=600>\n",
    "\n",
    "* Создание новых материалов и лекарств\n",
    "* Предсказание результатов физических экспериментов"
   ]
  },
  {
   "cell_type": "markdown",
   "metadata": {
    "slideshow": {
     "slide_type": "slide"
    }
   },
   "source": [
    "#### Работа в условиях неопределённости (uncertainty quantification)\n",
    "\n",
    "Пример: моделирование нефтяного месторождения. Модель может зависеть от параметров $p_1,\\dots,p_d$ (измеренных в эксперименте, например температуре, пористость), известными неточно\n",
    "\n",
    "$$\n",
    "u = u(t,{\\bf r},\\,{p_1,\\dots,p_d})\n",
    "$$"
   ]
  },
  {
   "cell_type": "markdown",
   "metadata": {
    "slideshow": {
     "slide_type": "slide"
    }
   },
   "source": [
    "#### И многие другие\n",
    "\n",
    "* Обработка сигналов\n",
    "* Рекомендательные системы: [обзор](https://arxiv.org/pdf/1603.06038.pdf)\n",
    "* Нейронные сети: сжатие слоёв с использования тензорных разложений (например [статья 1](https://arxiv.org/pdf/1412.6553) и [статья 2](https://papers.nips.cc/paper/2015/file/6855456e2fe46a9d49d3d3af4f57443d-Paper.pdf))\n",
    "* Языковые модели\n",
    "* Финансовая математика\n",
    "* ..."
   ]
  },
  {
   "cell_type": "markdown",
   "metadata": {
    "slideshow": {
     "slide_type": "slide"
    }
   },
   "source": [
    "## Как работать с большим числом размерностей?\n",
    "\n",
    "- **Монте-Карло**: класс методов, основанный на сэмплировании. Есть проблемы со сходимостью\n",
    "- **Разреженные сетки**: специальный тип сеток с малым количеством параметров. Сильные условия регулярности\n",
    "- **Лучшая аппроксимация N слагаемыми** : разреженное представление в заданном базисе.\n",
    "- Подход <font color='red'>**тензорных разложений** </font>"
   ]
  },
  {
   "cell_type": "markdown",
   "metadata": {
    "slideshow": {
     "slide_type": "slide"
    }
   },
   "source": [
    "## Тензорные разложения\n",
    "\n",
    "## 2D\n",
    "\n",
    "Скелетное разложение:\n",
    "\n",
    "$$ A = UV^T $$\n",
    "\n",
    "или поэлементно:\n",
    "\n",
    "$$ a_{ij} = \\sum_{\\alpha=1}^r u_{i\\alpha} v_{j\\alpha} $$\n",
    "\n",
    "приводит нас к идее **разделения переменных**\n",
    "\n",
    "**Свойства:**\n",
    "* Неединственно: $A = U V^T = UBB^{-1}V^T = \\tilde U \\tilde V^T$\n",
    "* Может бысть вычислена устойчиво с помощью **SVD**"
   ]
  },
  {
   "cell_type": "markdown",
   "metadata": {
    "slideshow": {
     "slide_type": "slide"
    }
   },
   "source": [
    "## Каноническое разложение\n",
    "\n",
    "Наиболее прямолинейное обобщение идеи разделения переменных на несколько размерностей - это **каноническое разложение**: (альтернативные названия CP/CANDECOMP/PARAFAC)\n",
    "\n",
    "$$\n",
    "a_{ijk} = \\sum_{\\alpha=1}^r u_{i\\alpha} v_{j\\alpha} w_{k\\alpha},\n",
    "$$\n",
    "\n",
    "минимально возможное $r$ называется **каноническим рангом**. Матрицы $U$, $V$ и $W$ называются **каноническими факторами**. Это разложение было предложено в 1927 Hitchcock'ом, [link](https://onlinelibrary.wiley.com/doi/abs/10.1002/sapm192761164)."
   ]
  },
  {
   "cell_type": "markdown",
   "metadata": {
    "slideshow": {
     "slide_type": "slide"
    }
   },
   "source": [
    "### Свойства:\n",
    "\n",
    "* Память: для $d$-мерного тензора требуется хранить $nrd$ элементов \n",
    "* Единственно при условии несильных ограничений\n",
    "* Множество тензоров ранга $\\leq r$ не замкнуто (в отличии от матриц): <br>\n",
    "  $a_{ijk} = i+j+k$, $\\text{rank}(A) = 3$, но\n",
    "  \n",
    "  $$a^\\epsilon_{ijk} = \\frac{(1+\\epsilon i)(1+\\epsilon j)(1+\\epsilon k) - 1}{\\epsilon}\\to i+j+k=a_{ijk},\\quad \\epsilon\\to 0 $$\n",
    "  \n",
    "  и $\\text{rank}(A^{\\epsilon}) = 2$\n",
    "* Отсутствует устойчивый алгоритм для вычисления наилучшей аппроксимации ранга $r$"
   ]
  },
  {
   "cell_type": "markdown",
   "metadata": {
    "slideshow": {
     "slide_type": "slide"
    }
   },
   "source": [
    "### Алгоритм попеременных наименьших квадратов\n",
    "\n",
    "0. Инициализировать $U,V,W$\n",
    "1. Фиксировать $V,W$, решить задачу наименьших квадратов для $U$\n",
    "2. Фиксировать $U,W$, решить задачу наименьших квадратов для $V$\n",
    "3. Фиксировать $U,V$, решить задачу наименьших квадратов для $W$\n",
    "4. Возвращаемся на шаг 1."
   ]
  },
  {
   "cell_type": "markdown",
   "metadata": {
    "slideshow": {
     "slide_type": "slide"
    }
   },
   "source": [
    "### Сжатие глубоких свёрточных сетей ([Lebedev, et. al 2015](https://arxiv.org/pdf/1412.6553.pdf))\n",
    "\n",
    "- Свёртки вычисляются с помощью 4-мерного тензора (также называется ядро)\n",
    "- Применим CP-разложение в этому тензору\n",
    "- Применим последовательно свёртки с меньшими ядрами, заданными факторами в CP разложении\n",
    "- Дообучим полученную модель\n",
    "\n",
    "<img src=\"./cp_compress_dnn.png\" width=600>"
   ]
  },
  {
   "cell_type": "code",
   "execution_count": 10,
   "metadata": {
    "slideshow": {
     "slide_type": "slide"
    }
   },
   "outputs": [
    {
     "name": "stdout",
     "output_type": "stream",
     "text": [
      "torch.Size([128, 128, 128])\n"
     ]
    },
    {
     "data": {
      "text/plain": [
       "Text(0, 0.5, 'Rel approximation error')"
      ]
     },
     "execution_count": 10,
     "metadata": {},
     "output_type": "execute_result"
    },
    {
     "data": {
      "image/png": "[encoded data removed]",
      "text/plain": [
       "<Figure size 640x480 with 1 Axes>"
      ]
     },
     "metadata": {},
     "output_type": "display_data"
    }
   ],
   "source": [
    "import torch\n",
    "torch.set_default_dtype(torch.float64)\n",
    "import tntorch as tn\n",
    "import numpy as np\n",
    "import matplotlib.pyplot as plt\n",
    "%matplotlib inline\n",
    "\n",
    "X, Y, Z = np.meshgrid(range(128), range(128), range(128))\n",
    "full = torch.Tensor(1. / (X + Y + Z + 1 ))  # Some analytical 3D function\n",
    "print(full.shape)\n",
    "\n",
    "# Test CP with different ranks, CP is computed with ALS, tol and max_iter are given\n",
    "rank_range = np.arange(1, 50, 5)\n",
    "error_rec = []\n",
    "for r in rank_range:\n",
    "    cp_t = tn.Tensor(full, ranks_cp=r, verbose=False, tol=1e-5, max_iter=50)\n",
    "    error_rec.append(torch.norm(cp_t.torch() - full).item() / torch.norm(full).item())\n",
    "plt.semilogy(rank_range, error_rec)\n",
    "plt.xlabel(\"CP rank\")\n",
    "plt.ylabel(\"Rel approximation error\")"
   ]
  },
  {
   "cell_type": "markdown",
   "metadata": {
    "slideshow": {
     "slide_type": "slide"
    }
   },
   "source": [
    "## Разложение Таккера\n",
    "\n",
    "Следующая тнзорное разложение было предложено в работе ([Tucker, 1963](https://link.springer.com/content/pdf/10.1007/BF02289464.pdf)) в журнале [Psychometrika](https://link.springer.com/journal/11336):\n",
    "\n",
    "$$\n",
    "a_{ijk} = \\sum_{\\alpha_1,\\alpha_2,\\alpha_3=1}^{r_1,r_2,r_3}g_{\\alpha_1\\alpha_2\\alpha_3} u_{i\\alpha_1} v_{j\\alpha_2} w_{k\\alpha_3}.\n",
    "$$\n",
    "\n",
    "В этом случае у нас несколько различных рангов. Минимально возможные $r_1,r_2,r_3$ называются **рангами Таккера**.\n",
    "\n",
    "**Свойства**:\n",
    "\n",
    "* Для $d$-мерного массива нужна <font color='red'>$r^d$</font> $+ nrd$ памяти, по-прежнему есть экспоненциальный рост!\n",
    "* Устойчивый алгоритм, основанный на SVD:\n",
    "    1. $U =$ главные компоненты развёртки `A.reshape(n1, n2*n3)`\n",
    "    2. $V =$ главные компоненты развёртки `A.transpose([1,0,2]).reshape(n2, n1*n3)`\n",
    "    3. $W =$ главные компоненты развёртки `A.transpose([2,0,1]).reshape(n3, n1*n2)`\n",
    "    4. $g_{\\alpha_1\\alpha_2\\alpha_3} = \\sum_{i,j,k=1}^{n_1,n_2,n_3} a_{ijk} u_{i\\alpha_1} v_{j\\alpha_2} w_{k\\alpha_3}$."
   ]
  },
  {
   "cell_type": "code",
   "execution_count": 11,
   "metadata": {
    "slideshow": {
     "slide_type": "slide"
    }
   },
   "outputs": [
    {
     "data": {
      "text/plain": [
       "Text(0, 0.5, 'Rel approximation error')"
      ]
     },
     "execution_count": 11,
     "metadata": {},
     "output_type": "execute_result"
    },
    {
     "data": {
      "image/png": "[encoded data removed]",
      "text/plain": [
       "<Figure size 640x480 with 1 Axes>"
      ]
     },
     "metadata": {},
     "output_type": "display_data"
    }
   ],
   "source": [
    "# Actually here is TT-Tucker format\n",
    "t_error = []\n",
    "for t_rank in rank_range:\n",
    "    tt_tucker_t = tn.Tensor(full, ranks_tucker=t_rank)\n",
    "    t_error.append(torch.norm(tt_tucker_t.torch() - full).item() / torch.norm(full).item())\n",
    "    \n",
    "plt.semilogy(rank_range, t_error)\n",
    "plt.xlabel(\"Tucker rank\")\n",
    "plt.ylabel(\"Rel approximation error\")"
   ]
  },
  {
   "cell_type": "markdown",
   "metadata": {
    "slideshow": {
     "slide_type": "slide"
    }
   },
   "source": [
    "### Применение в рекомендательных системах [(Frolov, Oseledets 2016)](https://dl.acm.org/citation.cfm?id=2959170)\n",
    "\n",
    "- Представим матрицу **пользователей-товаров** как бинарный тензор **пользователей-товаров-рейтингов**\n",
    "- После разложения Таккера этого тензора у нас будут три фактора\n",
    "- Два из них являются проекциями на пространство рейтингов и пространство товаров\n",
    "- Этот подход позволяет принять во внимание негативные оценки товаров некоторыми пользователями"
   ]
  },
  {
   "cell_type": "markdown",
   "metadata": {
    "slideshow": {
     "slide_type": "slide"
    }
   },
   "source": [
    "## Реализации разложений CP и Таккера\n",
    "\n",
    "- Matlab: [Tensorlab](https://www.tensorlab.net/) и [Tensor Toolbox](https://www.sandia.gov/~tgkolda/TensorToolbox/index-2.5.html)\n",
    "- Python: [TensorLy](http://tensorly.org/stable/home.html), [Scikit-tensor](https://github.com/mnick/scikit-tensor), [tntorch](https://github.com/rballester/tntorch)"
   ]
  },
  {
   "cell_type": "markdown",
   "metadata": {
    "slideshow": {
     "slide_type": "slide"
    }
   },
   "source": [
    "## Разложение тензорного поезда (Tensor Train decomposition)\n",
    "\n",
    "* Вычисление канонического разложения неустойчиво\n",
    "* Разложение Таккера не решает проблему экспоненциального роста параметров\n",
    "\n",
    "Разложение тензорного поезда (**TT**-разложение) ([Oseledets, Tyrtyshnikov 2009](http://www.mat.uniroma2.it/~tvmsscho/papers/Tyrtyshnikov4.pdf) и [Oseledets, 2011](https://epubs.siam.org/doi/abs/10.1137/090752286)) одновременно и устойчиво и содержит линейное по количеству размерностей число параметров:\n",
    "\n",
    "$$\n",
    "a_{i_1 i_2 \\dots i_d} = \\sum_{\\alpha_1,\\dots,\\alpha_{d-1}} \n",
    "g_{i_1\\alpha_1} g_{\\alpha_1 i_2\\alpha_2}\\dots g_{\\alpha_{d-2} i_{d-1}\\alpha_{d-1}} g_{\\alpha_{d-1} i_{d}}\n",
    "$$\n",
    "\n",
    "или в матричной форме\n",
    "\n",
    "$$\n",
    "    a_{i_1 i_2 \\dots i_d} = G_1 (i_1)G_2 (i_2)\\dots G_d(i_d)\n",
    "$$\n",
    "\n",
    "* Требуется памяти $\\mathcal{O}(dnr^2)$ \n",
    "* Устойчивый TT-SVD алгоритм"
   ]
  },
  {
   "cell_type": "markdown",
   "metadata": {
    "slideshow": {
     "slide_type": "slide"
    }
   },
   "source": [
    "**Пример**\n",
    "\n",
    "$$a_{i_1\\dots i_d} = i_1 + \\dots + i_d$$\n",
    "\n",
    "Канонический ранг равен $d$. В то же время TT-ранги равны $2$:\n",
    "\n",
    "$$\n",
    "i_1 + \\dots + i_d = \\begin{pmatrix} i_1 & 1 \\end{pmatrix} \n",
    "\\begin{pmatrix} 1 & 0 \\\\ i_2 & 1 \\end{pmatrix}\n",
    "\\dots\n",
    "\\begin{pmatrix} 1 & 0 \\\\ i_{d-1} & 1 \\end{pmatrix}\n",
    "\\begin{pmatrix} 1  \\\\  i_d \\end{pmatrix}\n",
    "$$"
   ]
  },
  {
   "cell_type": "code",
   "execution_count": 12,
   "metadata": {
    "slideshow": {
     "slide_type": "slide"
    }
   },
   "outputs": [
    {
     "data": {
      "text/plain": [
       "Text(0, 0.5, 'Rel approximation error')"
      ]
     },
     "execution_count": 12,
     "metadata": {},
     "output_type": "execute_result"
    },
    {
     "data": {
      "image/png": "[encoded data removed]",
      "text/plain": [
       "<Figure size 640x480 with 1 Axes>"
      ]
     },
     "metadata": {},
     "output_type": "display_data"
    }
   ],
   "source": [
    "error_rec = []\n",
    "for r in rank_range:\n",
    "    tt_t = tn.Tensor(full, ranks_tt=r)\n",
    "    error_rec.append(torch.norm(tt_t.torch() - full).item() / torch.norm(full).item())\n",
    "plt.semilogy(rank_range, error_rec)\n",
    "plt.xlabel(\"TT rank\")\n",
    "plt.ylabel(\"Rel approximation error\")"
   ]
  },
  {
   "cell_type": "code",
   "execution_count": 17,
   "metadata": {},
   "outputs": [
    {
     "name": "stdout",
     "output_type": "stream",
     "text": [
      "3D CP tensor:\n",
      "\n",
      " 128 128 128\n",
      "  |   |   |\n",
      " <0> <1> <2>\n",
      " / \\ / \\ / \\\n",
      "46  46  46  46\n",
      "\n",
      "3D TT tensor:\n",
      "\n",
      " 128 128 128\n",
      "  |   |   |\n",
      " (0) (1) (2)\n",
      " / \\ / \\ / \\\n",
      "1   33  35  1\n",
      "\n",
      "3D TT-Tucker tensor:\n",
      "\n",
      " 128 128 128\n",
      "  |   |   |\n",
      " 29  46  37\n",
      " (0) (1) (2)\n",
      " / \\ / \\ / \\\n",
      "1   128 37  1\n",
      "\n",
      "17664 156544 237273 2097152\n"
     ]
    }
   ],
   "source": [
    "print(cp_t)\n",
    "print(tt_t)\n",
    "print(tt_tucker_t)\n",
    "print(cp_t.numcoef(), tt_t.numcoef(), tt_tucker_t.numcoef(), full.numel())"
   ]
  },
  {
   "cell_type": "markdown",
   "metadata": {
    "slideshow": {
     "slide_type": "slide"
    }
   },
   "source": [
    "### Реализации\n",
    "\n",
    "- Matlab: [TT Toolbox](https://github.com/oseledets/TT-Toolbox)\n",
    "- Python: [ttpy](https://github.com/oseledets/ttpy), [teneva](https://github.com/AndreiChertkov/teneva)\n",
    "- TensorFlow: [t3f](https://github.com/Bihaqo/t3f)\n",
    "- PyTorch: [tt-pytorch](https://github.com/KhrulkovV/tt-pytorch) and [tntorch](https://github.com/rballester/tntorch)\n"
   ]
  },
  {
   "cell_type": "markdown",
   "metadata": {
    "slideshow": {
     "slide_type": "slide"
    }
   },
   "source": [
    "## Использование TT-разложения в римановой оптимизации\n",
    "\n",
    "- Пусть дан тензор $A$ в ТТ формате с большими tt-рангами\n",
    "- Хотим найти такой тензор $X$ (с малым заданным tt-рангом $r$), который наиболее близок к $A$ по Фробениусовой норме:\n",
    "\\begin{equation*}\n",
    "\\begin{aligned}\n",
    "& \\underset{X}{\\text{minimize}} \n",
    "& & \\frac{1}{2}\\|X - A\\|_F^2 \\\\\n",
    "& \\text{subject to} \n",
    "& & \\text{tt_rank}(X) = r\n",
    "\\end{aligned}\n",
    "\\end{equation*}\n",
    "\n",
    "- Известно, что множество тензоров в ТТ формате с поэлементно фиксированными TT рангами образует многообразие\n",
    "- Поэтому мы можем решать эту задачу используя так называемый риманов градиентный спуск. "
   ]
  },
  {
   "cell_type": "markdown",
   "metadata": {
    "slideshow": {
     "slide_type": "slide"
    }
   },
   "source": [
    "### Риманов градиентный спуск\n",
    "\n",
    "- Пусть дана некоторая функция $F$ на многообразии $\\mathcal{M}$. Римановым градиентным спуском называется следующая процедура \n",
    "\n",
    "$$\\hat{x}_{k+1} = x_{k} - \\alpha P_{T_{x_k}\\mathcal{M}} \\nabla F(x_k),$$\n",
    "\n",
    "$$x_{k+1} = \\mathcal{R}(\\hat{x}_{k+1})$$\n",
    "\n",
    "где $P_{T_{x_k}\\mathcal{M}}$ проекция на касательное пространство к $\\mathcal{M}$ в точке $x_k$, а $\\mathcal{R}$ называется ретракция - операция проекции точки с касательного пространства на многообразие и $\\alpha > 0$ размер шага\n",
    "\n",
    "- Далее показана реализация с помощью библиотеки `t3f`. В качестве ретракции используется процедура отсечения по tt-рангу (`t3f.round`)."
   ]
  },
  {
   "cell_type": "code",
   "execution_count": 3,
   "metadata": {
    "slideshow": {
     "slide_type": "slide"
    }
   },
   "outputs": [],
   "source": [
    "import t3f\n",
    "import tensorflow as tf\n",
    "tf.set_random_seed(0)\n",
    "np.random.seed(0)\n",
    "sess = tf.InteractiveSession()\n",
    "\n",
    "# Initialize A randomly, with large tt-ranks\n",
    "shape = 10 * [2]\n",
    "init_A = t3f.random_tensor(shape, tt_rank=16)\n",
    "A = t3f.get_variable('A', initializer=init_A, trainable=False)\n",
    "\n",
    "# Create an X variable and compute the gradient of the functional. Note that it is simply X - A.\n",
    "\n",
    "init_X = t3f.random_tensor(shape, tt_rank=2)\n",
    "X = t3f.get_variable('X', initializer=init_X)\n",
    "\n",
    "gradF = X - A"
   ]
  },
  {
   "cell_type": "code",
   "execution_count": 4,
   "metadata": {
    "slideshow": {
     "slide_type": "slide"
    }
   },
   "outputs": [],
   "source": [
    "# Let us compute the projection of the gradient onto the tangent space at X\n",
    "riemannian_grad = t3f.riemannian.project(gradF, X)\n",
    "\n",
    "# Compute the update by subtracting the Riemannian gradient\n",
    "# and retracting back to the manifold\n",
    "alpha = 1.0\n",
    "\n",
    "train_step = t3f.assign(X, t3f.round(X - alpha * riemannian_grad, max_tt_rank=2))\n",
    "\n",
    "# let us also compute the value of the functional\n",
    "# to see if it is decreasing\n",
    "F = 0.5 * t3f.frobenius_norm_squared(X - A)"
   ]
  },
  {
   "cell_type": "code",
   "execution_count": 5,
   "metadata": {
    "slideshow": {
     "slide_type": "slide"
    }
   },
   "outputs": [
    {
     "name": "stdout",
     "output_type": "stream",
     "text": [
      "81.62205\n",
      "58.53462\n",
      "56.27\n",
      "56.08319\n",
      "51.73249\n",
      "50.77673\n",
      "50.77672\n",
      "50.77671\n",
      "50.77672\n",
      "50.77672\n"
     ]
    }
   ],
   "source": [
    "sess.run(tf.global_variables_initializer())\n",
    "\n",
    "log = []\n",
    "for i in range(100):\n",
    "    F_v, _ = sess.run([F, train_step.op])\n",
    "    if i % 10 == 0:\n",
    "        print (F_v)\n",
    "    log.append(F_v)"
   ]
  },
  {
   "cell_type": "markdown",
   "metadata": {
    "slideshow": {
     "slide_type": "slide"
    }
   },
   "source": [
    "Сравним полученный результат с квазиоптимальным решением, полученным с помощью отсечения по tt-рангу исходного тензора $A$."
   ]
  },
  {
   "cell_type": "code",
   "execution_count": 6,
   "metadata": {
    "slideshow": {
     "slide_type": "fragment"
    }
   },
   "outputs": [
    {
     "name": "stdout",
     "output_type": "stream",
     "text": [
      "52.40742\n"
     ]
    }
   ],
   "source": [
    "quasi_sol = t3f.round(A, max_tt_rank=2)\n",
    "\n",
    "val = sess.run(0.5 * t3f.frobenius_norm_squared(quasi_sol - A))\n",
    "print (val)"
   ]
  },
  {
   "cell_type": "markdown",
   "metadata": {
    "slideshow": {
     "slide_type": "slide"
    }
   },
   "source": [
    "Видно, что найденное значение немного больше, чем значение найденное римановым градиентным спуском, но процедура tt-round быстрее и потому часто используется на практике."
   ]
  },
  {
   "cell_type": "code",
   "execution_count": 7,
   "metadata": {
    "slideshow": {
     "slide_type": "fragment"
    }
   },
   "outputs": [
    {
     "data": {
      "text/plain": [
       "<matplotlib.legend.Legend at 0xd261fa4a8>"
      ]
     },
     "execution_count": 7,
     "metadata": {},
     "output_type": "execute_result"
    },
    {
     "data": {
      "image/png": "[encoded data removed]",
      "text/plain": [
       "<Figure size 432x288 with 1 Axes>"
      ]
     },
     "metadata": {
      "needs_background": "light"
     },
     "output_type": "display_data"
    }
   ],
   "source": [
    "plt.semilogy(log, label='Riemannian gradient descent')\n",
    "plt.axhline(y=val, lw=1, ls='--', color='gray', label='TT-round(A)')\n",
    "plt.xlabel('Iteration')\n",
    "plt.ylabel('Value of the functional')\n",
    "plt.legend()"
   ]
  },
  {
   "cell_type": "markdown",
   "metadata": {
    "slideshow": {
     "slide_type": "slide"
    }
   },
   "source": [
    "## Квантизованное разложение тензорного поезда (QTT)\n",
    "\n",
    "Рассмотрим одномерный массив $a_k = f(x_k)$, $k=1,\\dots,2^d$ где $f$ некоторая одномерная функция, вычисленная в точках сетки $x_k$.\n",
    "\n",
    "Пусть $$k = {2^{d-1} i_1 + 2^{d-2} i_2 + \\dots + 2^0 i_{d}}\\quad i_1,\\dots,i_d = 0,1 $$ \n",
    "двоичное представление $k$, тогда\n",
    "\n",
    "$$\n",
    "    a_k = a_{2^{d-1} i_1 + 2^{d-2} i_2 + \\dots + 2^0 i_{d}} \\equiv \\tilde a_{i_1,\\dots,i_d},\n",
    "$$\n",
    "\n",
    "где $\\tilde a$ не что иное как тензор $a$ с изменёнными размерами. TT-разложение $\\tilde a$ называется **квантизованным TT-разложением (QTT)**. \n",
    "\n",
    "- Интересный факт, что QTT-разложение связано с вейвлетами, более подробно смотрите [тут](https://epubs.siam.org/doi/abs/10.1137/100811647).\n",
    "\n",
    "- Такое разложение содержит <font color='red'>$\\mathcal{O}(\\log n r^2)$</font> элементов!"
   ]
  },
  {
   "cell_type": "code",
   "execution_count": 86,
   "metadata": {
    "slideshow": {
     "slide_type": "slide"
    }
   },
   "outputs": [
    {
     "name": "stdout",
     "output_type": "stream",
     "text": [
      "15D TT tensor:\n",
      "\n",
      "  2   2   2   2   2   2   2   2   2   2   2   2   2   2   2\n",
      "  |   |   |   |   |   |   |   |   |   |   |   |   |   |   |\n",
      " (0) (1) (2) (3) (4) (5) (6) (7) (8) (9) (10)(11)(12)(13)(14)\n",
      " / \\ / \\ / \\ / \\ / \\ / \\ / \\ / \\ / \\ / \\ / \\ / \\ / \\ / \\ / \\\n",
      "1   2   2   2   2   2   2   2   2   2   2   2   2   2   2   1\n",
      "\n",
      "1.0578165355786184e-13\n",
      "112 32768.0\n"
     ]
    }
   ],
   "source": [
    "x = torch.linspace(0, 5, steps=2**15)\n",
    "y = torch.sin(x)\n",
    "y_t = y.reshape([2 for i in range(15)])\n",
    "y_tt = tn.Tensor(y_t, ranks_tt=2)\n",
    "print(y_tt)\n",
    "print(torch.norm(y_t - y_tt.torch()).item())\n",
    "print(y_tt.numcoef(), y_tt.numel().item())"
   ]
  },
  {
   "cell_type": "markdown",
   "metadata": {
    "slideshow": {
     "slide_type": "slide"
    }
   },
   "source": [
    "## Метод крестовой аппроксимации\n",
    "\n",
    "- Если дано разложение тензора, то нет проблем с быстрым выполнением базовых операций\n",
    "\n",
    "- Однако, неясно, как получить разложение, когда тензор не может быть сохранён в памяти целиком\n",
    "\n",
    "- **[Метод крестовой аппроксимации](https://www.mat.uniroma2.it/~tvmsscho/papers/Tyrtyshnikov5.pdf)** позволяет получить тензорное разложение на основе лишь небольшого числа элементов тензора."
   ]
  },
  {
   "cell_type": "markdown",
   "metadata": {
    "slideshow": {
     "slide_type": "slide"
    }
   },
   "source": [
    "## Тензорные сети\n",
    "\n",
    "- Универсальный способ записи тензорных разложений\n",
    "- Могут быть интерпретированы как специальная архитектура нейронной сети\n",
    "- Некоторые теоретические результаты о выразительной силе глубкоих нейронных сетей могут быть получены с использованием аппарата тензорных сетей, пример такого использования можно найти [тут](https://arxiv.org/pdf/1711.00811.pdf)\n",
    "- [tntorch](https://github.com/rballester/tntorch) объединяет тензорные сети и PyTorch\n",
    "- Более подробно можно прочитать [здесь](https://arxiv.org/pdf/1609.00893.pdf) и [здесь](https://arxiv.org/abs/1708.09165)"
   ]
  },
  {
   "cell_type": "markdown",
   "metadata": {
    "slideshow": {
     "slide_type": "slide"
    }
   },
   "source": [
    "## Резюме \n",
    "\n",
    "* Тензорные разложения - полезный инструмент для работы с многомерными данными\n",
    "* Примеры тензорных разложений: каноническое, Таккера, ТТ и QTT\n",
    "* Идея крестовой аппроксимации"
   ]
  },
  {
   "cell_type": "markdown",
   "metadata": {
    "slideshow": {
     "slide_type": "slide"
    }
   },
   "source": [
    "## На следующей неделе\n",
    "\n",
    "- Презентация проектов"
   ]
  },
  {
   "cell_type": "code",
   "execution_count": 1,
   "metadata": {
    "slideshow": {
     "slide_type": "skip"
    }
   },
   "outputs": [
    {
     "data": {
      "text/html": [
       "<link href='http://fonts.googleapis.com/css?family=Fenix' rel='stylesheet' type='text/css'>\n",
       "<link href='http://fonts.googleapis.com/css?family=Alegreya+Sans:100,300,400,500,700,800,900,100italic,300italic,400italic,500italic,700italic,800italic,900italic' rel='stylesheet' type='text/css'>\n",
       "<link href='http://fonts.googleapis.com/css?family=Source+Code+Pro:300,400' rel='stylesheet' type='text/css'>\n",
       "<style>\n",
       "    @font-face {\n",
       "        font-family: \"Computer Modern\";\n",
       "        src: url('http://mirrors.ctan.org/fonts/cm-unicode/fonts/otf/cmunss.otf');\n",
       "    }\n",
       "    div.cell{\n",
       "        /*width:80%;*/\n",
       "        /*margin-left:auto !important;\n",
       "        margin-right:auto;*/\n",
       "    }\n",
       "    h1 {\n",
       "        font-family: 'Alegreya Sans', sans-serif;\n",
       "    }\n",
       "    h2 {\n",
       "        font-family: 'Fenix', serif;\n",
       "    }\n",
       "    h3{\n",
       "\t\tfont-family: 'Fenix', serif;\n",
       "        margin-top:12px;\n",
       "        margin-bottom: 3px;\n",
       "       }\n",
       "\th4{\n",
       "\t\tfont-family: 'Fenix', serif;\n",
       "       }\n",
       "    h5 {\n",
       "        font-family: 'Alegreya Sans', sans-serif;\n",
       "    }\t   \n",
       "    div.text_cell_render{\n",
       "        font-family: 'Alegreya Sans',Computer Modern, \"Helvetica Neue\", Arial, Helvetica, Geneva, sans-serif;\n",
       "        line-height: 1.2;\n",
       "        font-size: 120%;\n",
       "        /*width:70%;*/\n",
       "        /*margin-left:auto;*/\n",
       "        margin-right:auto;\n",
       "    }\n",
       "    .CodeMirror{\n",
       "            font-family: \"Source Code Pro\";\n",
       "\t\t\tfont-size: 90%;\n",
       "    }\n",
       "/*    .prompt{\n",
       "        display: None;\n",
       "    }*/\n",
       "    .text_cell_render h1 {\n",
       "        font-weight: 200;\n",
       "        font-size: 50pt;\n",
       "\t\tline-height: 110%;\n",
       "        color:#CD2305;\n",
       "        margin-bottom: 0.5em;\n",
       "        margin-top: 0.5em;\n",
       "        display: block;\n",
       "    }\t\n",
       "    .text_cell_render h5 {\n",
       "        font-weight: 300;\n",
       "        font-size: 16pt;\n",
       "        color: #CD2305;\n",
       "        font-style: italic;\n",
       "        margin-bottom: .5em;\n",
       "        margin-top: 0.5em;\n",
       "        display: block;\n",
       "    }\n",
       "    \n",
       "    li {\n",
       "        line-height: 110%;\n",
       "    }\n",
       "    .warning{\n",
       "        color: rgb( 240, 20, 20 )\n",
       "        }  \n",
       "\n",
       "</style>\n",
       "\n",
       "<script>\n",
       "    MathJax.Hub.Config({\n",
       "                        TeX: {\n",
       "                           extensions: [\"AMSmath.js\"]\n",
       "                           },\n",
       "                tex2jax: {\n",
       "                    inlineMath: [ ['$','$'], [\"\\\\(\",\"\\\\)\"] ],\n",
       "                    displayMath: [ ['$$','$$'], [\"\\\\[\",\"\\\\]\"] ]\n",
       "                },\n",
       "                displayAlign: 'center', // Change this to 'center' to center equations.\n",
       "                \"HTML-CSS\": {\n",
       "                    styles: {'.MathJax_Display': {\"margin\": 4}}\n",
       "                }\n",
       "        });\n",
       "</script>\n"
      ],
      "text/plain": [
       "<IPython.core.display.HTML object>"
      ]
     },
     "execution_count": 1,
     "metadata": {},
     "output_type": "execute_result"
    }
   ],
   "source": [
    "from IPython.core.display import HTML\n",
    "def css_styling():\n",
    "    styles = open(\"./styles/custom.css\", \"r\").read()\n",
    "    return HTML(styles)\n",
    "css_styling()"
   ]
  }
 ],
 "metadata": {
  "anaconda-cloud": {},
  "celltoolbar": "Slideshow",
  "kernelspec": {
   "display_name": "Python 3 (ipykernel)",
   "language": "python",
   "name": "python3"
  },
  "language_info": {
   "codemirror_mode": {
    "name": "ipython",
    "version": 3
   },
   "file_extension": ".py",
   "mimetype": "text/x-python",
   "name": "python",
   "nbconvert_exporter": "python",
   "pygments_lexer": "ipython3",
   "version": "3.10.6"
  },
  "nav_menu": {},
  "toc": {
   "navigate_menu": true,
   "number_sections": false,
   "sideBar": true,
   "threshold": 6,
   "toc_cell": false,
   "toc_section_display": "block",
   "toc_window_display": true
  }
 },
 "nbformat": 4,
 "nbformat_minor": 1
}
