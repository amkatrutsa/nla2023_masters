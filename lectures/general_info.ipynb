{
 "cells": [
  {
   "cell_type": "markdown",
   "metadata": {
    "slideshow": {
     "slide_type": "slide"
    }
   },
   "source": [
    "# Вычислительная линейная алгебра, AI Masters,  осень 2023"
   ]
  },
  {
   "cell_type": "markdown",
   "metadata": {
    "slideshow": {
     "slide_type": "slide"
    }
   },
   "source": [
    "## Доступ к материалам лекций\n",
    "\n",
    "Слайды доступны на [GitHub](https://github.com/amkatrutsa/nla2023_masters)\n",
    "\n",
    "Также их можно посмотреть через [Nbviewer](http://nbviewer.jupyter.org/github/amkatrutsa/nla2023_masters/tree/main/)"
   ]
  },
  {
   "cell_type": "markdown",
   "metadata": {
    "slideshow": {
     "slide_type": "slide"
    }
   },
   "source": [
    "## Кто будет вести курс\n",
    "\n",
    "Лектор и семинарист: Александр Катруца"
   ]
  },
  {
   "cell_type": "markdown",
   "metadata": {
    "slideshow": {
     "slide_type": "slide"
    }
   },
   "source": [
    "## Домашние задания\n",
    "\n",
    "1. Несколько домашних заданий\n",
    "\n",
    "2. В домашних заданиях будут как задачи на программирование, так и теоретические задачи на доказательства."
   ]
  },
  {
   "cell_type": "markdown",
   "metadata": {
    "slideshow": {
     "slide_type": "slide"
    }
   },
   "source": [
    "## Правила выполнения домашних заданий\n",
    "\n",
    "1. Строгие дедлайны. Если вы не успели отправить решение, то получаете 0 баллов за задание.\n",
    "2. Дедлайны объявляются вместе с выкладыванием домашнего задания.\n",
    "3. Если в решениях будет обнаружен плагиат (copy-paste решения), будет ставится 0 за скопированные решения всем студентам с одинаковыми решениями"
   ]
  },
  {
   "cell_type": "markdown",
   "metadata": {
    "slideshow": {
     "slide_type": "slide"
    }
   },
   "source": [
    "## Проект\n",
    "\n",
    "- Команды 2-4 человека\n",
    "- Темы предлагает команда или выбирает из предложенного списка\n",
    "- Результат работы над проектом\n",
    "    - презентация\n",
    "    - GitHub репозиторий с кодом для воспроизведения результатов\n",
    "- В течение курса будет предложено выполнить 2-3 проекта по соответствующим блокам тем"
   ]
  },
  {
   "cell_type": "markdown",
   "metadata": {
    "slideshow": {
     "slide_type": "slide"
    }
   },
   "source": [
    "## Оценки\n",
    "\n",
    "- 10-балльная система\n",
    "- Оценка ставится как $\\mathtt{round}(score \\; / \\; 10)$, где $score$ – это процент успешно выполненных активностей за курс\n",
    "- Например\n",
    "    - если ваши баллы составляют 57\\% от максимума, то ваша оценка равна $ \\mathtt{round}(57 / 10) = 6$\n",
    "    - если ваши баллы составляют 51\\% от максимума, то ваша оценка равна $\\mathtt{round}(51 / 10) = 5$"
   ]
  },
  {
   "cell_type": "markdown",
   "metadata": {
    "slideshow": {
     "slide_type": "slide"
    }
   },
   "source": [
    "## Описание курса\n",
    "\n",
    "- Вычислительная линейная алгебра является основным инструментом для эффективного решения прикладных задач в различных областях науки\n",
    "- Матричные разложения являются ключевым подходом к решению многих задач\n",
    "- Для задач малой и большой размерности необходимы различные методы решения\n",
    "- Применение вычислительной линейной алгебры в задачах обучения нейросетей требует специальных подходов, которые также будут рассмотрены в курсе"
   ]
  },
  {
   "cell_type": "markdown",
   "metadata": {
    "slideshow": {
     "slide_type": "slide"
    }
   },
   "source": [
    "## Что вы будете знать и уметь после успешного прохождения курса\n",
    "\n",
    "-  Решать задачи вычислительной линейной алгебры небольшой размерности (решение линейных систем, вычисление собственный векторов/значений, решение злинейной задачи наименьших квадратов), используя **матричные разложения**\n",
    "- Применять **итерационные методы** для решения линейных систем с разреженными/структурированными матрицами\n",
    "- Определять подходящий метод для решения конкретной задачи вычислительной линейной алгебры\n",
    "- Находить необходимые пакеты для решения определённых задач"
   ]
  },
  {
   "cell_type": "markdown",
   "metadata": {
    "slideshow": {
     "slide_type": "slide"
    }
   },
   "source": [
    "## Python 3\n",
    "\n",
    "- На лекциях и семинарах будет использовать Python >= 3.7.\n",
    "- Задачи на программирование в домашних заданиях также необходимо выполнять, используя Python >= 3.7\n",
    "- Рекомендуем установить дистрибутив [Anaconda](https://docs.anaconda.com/anaconda/install/)\n",
    "- Также сервис [https://colab.research.google.com/](https://colab.research.google.com/) позволяет использовать удалённые CPU/GPU ресурсы"
   ]
  },
  {
   "cell_type": "markdown",
   "metadata": {
    "slideshow": {
     "slide_type": "slide"
    }
   },
   "source": [
    "## Приблизительный план на семестр\n",
    "\n",
    "- Представление действительных чисел в компьютере: числа с плавающей точкой, вариации форматов и связанные с этим проблемы\n",
    "- Векторы, матрицы, нормы. Линейные системы\n",
    "- Умножение матриц\n",
    "- Ранг матрицы и малоранговое приближение. Сингулярное разложение\n",
    "- QR разложение: как вычислять и где применяется\n",
    "- Спектральное разложение и как его вычислить. QR алгоритм\n",
    "- Обзор способов вычисления сингулярного разложения\n",
    "- Разреженные матрицы и где их можно встретить\n",
    "- Крыловские методы\n",
    "- Введение в предобуславливатели\n",
    "- Рандломизированные подходы к решению задач линейной алгебры\n",
    "- Свёртки, FFT и нейронные сети\n",
    "- Тензоры и их разложения (часть 1)\n",
    "- Тензоры и их разложения (часть 2)"
   ]
  },
  {
   "cell_type": "markdown",
   "metadata": {
    "slideshow": {
     "slide_type": "slide"
    }
   },
   "source": [
    "## Литература и другие источники информации по курсу \n",
    "\n",
    "- Лекции доступны онлайн\n",
    "\n",
    "**Базовый материал по линейной алгебре**\n",
    "- [Краткий обзор](http://cs229.stanford.edu/section/cs229-linalg.pdf) базовых понятий линейной алгебры\n",
    "- Книга \"Introduction to Linear Algebra\" by Gilbert Strang \n",
    "- [Видео](https://www.youtube.com/watch?v=ZK3O402wf1c&list=PL49CF3715CB9EF31D) лекций Gilbert'a Strang'a на YouTube\n",
    "\n",
    "\n",
    "**Основная литература по вычислительной линейной алгебре:**\n",
    "- Gene H. Golub, Charles. F. Van Loan, \"Matrix computations\" (4th edition), [pdf 3-го издания](https://twiki.cern.ch/twiki/pub/Main/AVFedotovHowToRootTDecompQRH/Golub_VanLoan.Matr_comp_3ed.pdf)\n",
    "- Lloyd N. Trefethen and David Bau III, \"Numerical Linear Algebra\"\n",
    "- Eugene. E. Tyrtyshnikov, \"Brief introduction to numerical analysis\"\n",
    "- James W. Demmel, \"Numerical Linear Algebra\"\n",
    "\n",
    "Различные приложения линейной алгебры можно найти в книге \"[Introduction to\n",
    "Applied Linear Algebra](http://vmls-book.stanford.edu/vmls.pdf)\" by S. Boyd and L. Vandenberghe"
   ]
  },
  {
   "cell_type": "markdown",
   "metadata": {
    "slideshow": {
     "slide_type": "slide"
    }
   },
   "source": [
    "## Переходим к первой лекции...."
   ]
  }
 ],
 "metadata": {
  "anaconda-cloud": {},
  "celltoolbar": "Slideshow",
  "kernelspec": {
   "display_name": "Python 3 (ipykernel)",
   "language": "python",
   "name": "python3"
  },
  "language_info": {
   "codemirror_mode": {
    "name": "ipython",
    "version": 3
   },
   "file_extension": ".py",
   "mimetype": "text/x-python",
   "name": "python",
   "nbconvert_exporter": "python",
   "pygments_lexer": "ipython3",
   "version": "3.10.6"
  },
  "latex_envs": {
   "LaTeX_envs_menu_present": true,
   "bibliofile": "biblio.bib",
   "cite_by": "apalike",
   "current_citInitial": 1,
   "eqLabelWithNumbers": true,
   "eqNumInitial": 1,
   "labels_anchors": false,
   "latex_user_defs": false,
   "report_style_numbering": false,
   "user_envs_cfg": false
  },
  "nav_menu": {},
  "toc": {
   "navigate_menu": true,
   "number_sections": false,
   "sideBar": true,
   "threshold": 6,
   "toc_cell": false,
   "toc_section_display": "block",
   "toc_window_display": false
  }
 },
 "nbformat": 4,
 "nbformat_minor": 1
}
