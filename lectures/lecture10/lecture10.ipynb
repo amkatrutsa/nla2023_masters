{
 "cells": [
  {
   "cell_type": "markdown",
   "id": "fb144b61",
   "metadata": {
    "slideshow": {
     "slide_type": "slide"
    }
   },
   "source": [
    "# Лекция 10\n",
    "\n",
    "## Итерационные методы и предобуславливатели"
   ]
  },
  {
   "cell_type": "markdown",
   "id": "0ec279de",
   "metadata": {
    "slideshow": {
     "slide_type": "slide"
    }
   },
   "source": [
    "## На прошлой лекции\n",
    "\n",
    "- Процесс Арнольди для ортогонализации Крыловского подпространства\n",
    "- Процесс Ланцоша в симметричном случае\n",
    "- Функционал энергии и метод сопряжённых градиентов\n",
    "- Анализ сходимости\n",
    "- Случай несимметричной системы: идея метода GMRES"
   ]
  },
  {
   "cell_type": "markdown",
   "id": "e1846445",
   "metadata": {
    "slideshow": {
     "slide_type": "slide"
    }
   },
   "source": [
    "## План на сегодня\n",
    "\n",
    "- Другие итерационные методы: MINRES, BiCG и BiCGStab \n",
    "- Концепция предобуславливателей"
   ]
  },
  {
   "cell_type": "markdown",
   "id": "e1ad71d3",
   "metadata": {
    "slideshow": {
     "slide_type": "slide"
    }
   },
   "source": [
    "## Какой метод использовать?\n",
    "\n",
    "- Если матрица симметричная (эрмитова) и положительно определённая, используйте метод сопряжённых градиентов.\n",
    "- Если матрица симметричная, но не определённая, можем использовать метод MINRES (идея GMRES, применённая к симметричной системе, подробности далее)\n",
    "- Если матрица несимметричная и не очень большая, используйте GMRES\n",
    "- Если матрица несимметричная и мы можем хранить только ограниченное число векторов, используем либо GMRES с рестартами, либо BiCGStab (требуется также функция умножения на $A^{\\top}$)."
   ]
  },
  {
   "cell_type": "markdown",
   "id": "0da96a56",
   "metadata": {
    "slideshow": {
     "slide_type": "slide"
    }
   },
   "source": [
    "### Более детальный план по выбору метода из [этой книги](http://www.netlib.org/templates/templates.pdf)\n",
    "<img src=\"./flowchart_iterative_methods.png\">"
   ]
  },
  {
   "cell_type": "markdown",
   "id": "9e52ee8b",
   "metadata": {
    "slideshow": {
     "slide_type": "slide"
    }
   },
   "source": [
    "## MINRES\n",
    "\n",
    "Метод MINRES – это GMRES, применённый к симметричной матрице системы. Мы минимизируем\n",
    "\n",
    "$$\\Vert A Q_j x_j - f \\Vert_2 = \\Vert Q_j \\widehat{x}_j + h_{j, j-1} q_j \\widehat{x}_j - f \\Vert_2 = \\Vert Q_{j+1} \\widehat{H}_{j+1}  \\widehat{x}_j - f \\Vert_2 \\rightarrow \\min$$\n",
    "\n",
    "что эквивалентно линейной задаче наименьших квадратов с **почти трёхдиагональной** матрицей\n",
    "\n",
    "$$\\Vert \\widehat{H}_{j+1} x_{j} - \\gamma e_0 \\Vert_2 \\rightarrow \\min.$$\n",
    "\n",
    "- По аналогии с GMRES мы можем получить короткие рекуррентные соотношения\n",
    "\n",
    "- Аккуратная реализация MINRES требует хранить не более $5$ векторов"
   ]
  },
  {
   "cell_type": "markdown",
   "id": "69a0b5c9",
   "metadata": {
    "slideshow": {
     "slide_type": "slide"
    }
   },
   "source": [
    "## Отличия между MINRES и CG\n",
    "\n",
    "- MINRES минимизирует $\\Vert Ax_k - f \\Vert_2$ на Крыловском подпространстве\n",
    "- CG минимизирует $(Ax, x) - 2(f, x)$ на Крыловском подпространстве\n",
    "- MINRES применим к неопределённым (то есть не положительно определённым) задачам.\n",
    "- CG хранит меньше векторов ($3$ вместо $5$). \n",
    "\n",
    "Теперь перейдём к обсуждению несимметричных систем."
   ]
  },
  {
   "cell_type": "markdown",
   "id": "d7872ba8",
   "metadata": {
    "slideshow": {
     "slide_type": "slide"
    }
   },
   "source": [
    "## Несимметричные системы\n",
    "\n",
    "- Основной недостаток GMRES: нам нужно хранить все векторы, поэтому с каждой итерацией нужно всё больше и больше памяти\n",
    "\n",
    "- Мы можем делать  **рестарты** (то есть вычислить новый вектор невязки и строить новое Крыловское подпространство на его основе): мы нашли некоторое приближённое решение $x$ и теперь решаем новую линейную систему на вектор коррекции:\n",
    "\n",
    "$$A(x + e) = f, \\quad Ae = f - Ax,$$\n",
    "\n",
    "и генерируем новое **Крыловское подпространство** из данного вектора невязки. Это замедляет сходимость, что мы покажем далее."
   ]
  },
  {
   "cell_type": "code",
   "execution_count": 3,
   "id": "27c07b80",
   "metadata": {
    "slideshow": {
     "slide_type": "slide"
    }
   },
   "outputs": [
    {
     "data": {
      "text/plain": [
       "<matplotlib.legend.Legend at 0x12f110b80>"
      ]
     },
     "execution_count": 3,
     "metadata": {},
     "output_type": "execute_result"
    },
    {
     "data": {
      "image/png": "[encoded data removed]",
      "text/plain": [
       "<Figure size 640x480 with 1 Axes>"
      ]
     },
     "metadata": {},
     "output_type": "display_data"
    }
   ],
   "source": [
    "import scipy.sparse.linalg\n",
    "%matplotlib inline\n",
    "import matplotlib.pyplot as plt\n",
    "plt.rc(\"text\", usetex=True)\n",
    "import numpy as np\n",
    "import scipy as sp\n",
    "\n",
    "n = 300\n",
    "ex = np.ones(n);\n",
    "A = -sp.sparse.spdiags(np.vstack((ex,  -(2 + 1./n)*ex, (1 + 1./n) * ex)), [-1, 0, 1], n, n, 'csr'); \n",
    "rhs = np.random.randn(n)\n",
    "\n",
    "res_gmres_rst = []\n",
    "res_gmres = []\n",
    "def gmres_rst_cl(r):\n",
    "    res_gmres_rst.append(np.linalg.norm(r))\n",
    "    \n",
    "def gmres_rst(r):\n",
    "    res_gmres.append(np.linalg.norm(r))\n",
    "\n",
    "small_restart = 100\n",
    "sol = scipy.sparse.linalg.gmres(A, rhs, restart=small_restart, callback=gmres_rst_cl)\n",
    "sol = scipy.sparse.linalg.gmres(A, rhs, restart=n, callback=gmres_rst)\n",
    "\n",
    "lim = 300\n",
    "plt.semilogy(res_gmres_rst[:lim], marker='.',color='k', label='GMRES, restart={}'.format(small_restart))\n",
    "plt.semilogy(res_gmres[:lim], marker='x',color='r', label='GMRES, no restart')\n",
    "plt.xlabel('Iteration number', fontsize=20)\n",
    "plt.ylabel('Residual norm', fontsize=20)\n",
    "plt.xticks(fontsize=20)\n",
    "plt.yticks(fontsize=20)\n",
    "plt.legend(fontsize=20)"
   ]
  },
  {
   "cell_type": "markdown",
   "id": "1eeeb0c6",
   "metadata": {
    "slideshow": {
     "slide_type": "slide"
    }
   },
   "source": [
    "### Как избежать такого замедления сходимости?\n",
    "\n",
    "- Метод бисопряжённых градиентов (biconjugate gradient method, название **BiCG** предложено Fletcher'ом, [оригинальная статья](https://link.springer.com/chapter/10.1007%2FBFb0080116)) позволяет избежать замедления сходимости с помощью \"коротких рекуррентных соотношений\" по аналогии с CG."
   ]
  },
  {
   "cell_type": "markdown",
   "id": "8fdf00ab",
   "metadata": {
    "slideshow": {
     "slide_type": "slide"
    }
   },
   "source": [
    "## Идея метода бисопряжённых градиентов\n",
    "\n",
    "- Используем нормальное уравнение:\n",
    "\n",
    "$$A^* A x = A^* f,$$\n",
    "\n",
    "и применяем CG для его решения.\n",
    "\n",
    "- Число обусловленности равно квадрату числа обусловленности для исходной матрицы, поэтому нам нужна процедура **стабилизации**.\n",
    "\n",
    "- Стабилизация приводит к повышению устойчивости (подробности далее)\n",
    "\n",
    "На следующем примере покажем неустойчивость метода бисопряжённывх градиентов для несимметричной матрицы."
   ]
  },
  {
   "cell_type": "code",
   "execution_count": 4,
   "id": "bbb6b22e",
   "metadata": {
    "slideshow": {
     "slide_type": "slide"
    }
   },
   "outputs": [
    {
     "data": {
      "text/plain": [
       "<matplotlib.legend.Legend at 0x12f174790>"
      ]
     },
     "execution_count": 4,
     "metadata": {},
     "output_type": "execute_result"
    },
    {
     "data": {
      "image/png": "[encoded data removed]",
      "text/plain": [
       "<Figure size 640x480 with 1 Axes>"
      ]
     },
     "metadata": {},
     "output_type": "display_data"
    }
   ],
   "source": [
    "res_all_bicg = []\n",
    "def bicg_cl(x):\n",
    "    res_all_bicg.append(np.linalg.norm(A.dot(x) - rhs))\n",
    "    \n",
    "sol = scipy.sparse.linalg.bicg(A, rhs, x0=np.zeros(n), callback=bicg_cl)\n",
    "plt.semilogy(res_all_bicg, label='BiCG')\n",
    "plt.semilogy(res_gmres_rst[:n], label='GMRES, restart=20')\n",
    "plt.semilogy(res_gmres, label='GMRES, no restart')\n",
    "plt.xlabel('Iteration number', fontsize=20)\n",
    "plt.ylabel('Residual norm', fontsize=20)\n",
    "plt.xticks(fontsize=20)\n",
    "plt.yticks(fontsize=20)\n",
    "plt.legend(fontsize=20)"
   ]
  },
  {
   "cell_type": "markdown",
   "id": "7d0055d9",
   "metadata": {
    "slideshow": {
     "slide_type": "slide"
    }
   },
   "source": [
    "##  Бисопряжённые градиенты\n",
    "\n",
    "У нас есть два варианта:\n",
    "\n",
    "1. Использовать $\\mathcal{K}(A^* A, A^* f)$ для генерации подпространства, но это приводит к увеличению числа обусловленности\n",
    "2. Вместо этого можем использовать Крыловские подпространства $\\mathcal{K}(A)$ и $\\mathcal{K}(A^*)$ для генерации двух базисов, которые будут **биортогональны** (так называемый биортогональный процесс Ланцоша).\n",
    "\n",
    "- Цель: вычислить проекцию Петрова-Галёркина исходной матрицы\n",
    "\n",
    "$$W^* A V \\widehat{x} = W^* f$$\n",
    "\n",
    "со столбцами $W$ из Крыловского подпространства для матрицы $A^*$, и $V$ – для матрицы $A$ (сравните с CG). \n",
    "\n",
    "- Это может привести к неустойчивости, если мы будем пересчитывать решение наиболее эффективным образом."
   ]
  },
  {
   "cell_type": "markdown",
   "id": "feb6d1d5",
   "metadata": {
    "slideshow": {
     "slide_type": "slide"
    }
   },
   "source": [
    "## BiCG метод\n",
    "\n",
    "На практике для реализации метода BiCG используют **двусторонний процесс Ланцоша**: генерирование Крыловского подпространства для $A$ и $A^{\\top}$.\n",
    "\n",
    "В частности,\n",
    "\n",
    "1. $\\alpha_j = \\frac{(r_j, \\hat{r}_j)}{(Ap_j, \\hat{p}_j)}$\n",
    "2. $x_{j+1} = x_j + \\alpha_j p_j $\n",
    "3. $r_{j+1} = r_j - \\alpha_j Ap_j$\n",
    "4. $\\hat{r}_{j+1} = \\hat{r}_j - \\alpha_j A^{\\top}\\hat{p}_j$\n",
    "5. $\\beta_j = \\frac{(r_{j+1}, \\hat{r}_{j+1})}{(r_j, \\hat{r}_j)}$\n",
    "6. $p_{j+1} = r_{j+1} + \\beta_j p_j$\n",
    "7. $\\hat{p}_{j+1} = \\hat{r}_{j+1} - \\beta_j \\hat{p}_j$\n",
    "\n",
    "Далее рассмотрим устойчивую версию метода BiCG."
   ]
  },
  {
   "cell_type": "markdown",
   "id": "c205a68f",
   "metadata": {
    "slideshow": {
     "slide_type": "slide"
    }
   },
   "source": [
    "## BiCGStab\n",
    "\n",
    "- BiCGStab часто используется и представляет из себя **стабилизированную** версию методу BiCG. Он обладает более быстрой и гладкой сходимостью, чем оригинальный метод BiCG.\n",
    "\n",
    "- Формулы можно посмотреть, например, [тут](https://en.wikipedia.org/wiki/Biconjugate_gradient_stabilized_method)\n",
    "\n",
    "- Они являются комбинацией шага метода BiCG с последующим шагом GMRES(1) для сглаживания сходимости.\n",
    "\n",
    "- Более подробно метод описан в книге [\"Iterative Krylov Methods for Large Linear Systems\"](http://www.lmn.pub.ro/~daniel/ElectromagneticModelingDoctoral/Books/Numerical%20Methods/VanDerVorst2003%20Iterative%20Krylov%20Methods%20for%20Large%20Linear%20Systems.pdf) за авторством H. Van-der Vorst.\n",
    "\n",
    "Далее сравним сходимость стабилизированной и нестабилизированной версии метода BiCG"
   ]
  },
  {
   "cell_type": "code",
   "execution_count": 12,
   "id": "328c2bbc",
   "metadata": {
    "slideshow": {
     "slide_type": "slide"
    }
   },
   "outputs": [
    {
     "name": "stdout",
     "output_type": "stream",
     "text": [
      "Dimension of the linear system = 10000\n"
     ]
    },
    {
     "data": {
      "image/png": "[encoded data removed]",
      "text/plain": [
       "<Figure size 640x480 with 1 Axes>"
      ]
     },
     "metadata": {},
     "output_type": "display_data"
    }
   ],
   "source": [
    "import scipy.sparse.linalg\n",
    "%matplotlib inline\n",
    "import matplotlib.pyplot as plt\n",
    "import numpy as np\n",
    "import scipy as sp\n",
    "\n",
    "n = 100\n",
    "\n",
    "# ex = np.ones(n);\n",
    "# A = -sp.sparse.spdiags(np.vstack((ex,  -(2 + 1./n)*ex, (1 + 1./n) * ex)), [-1, 0, 1], n, n, 'csr') \n",
    "# rhs = np.random.randn(n)\n",
    "\n",
    "ee = sp.sparse.eye(n)\n",
    "A = -sp.sparse.spdiags(np.vstack((ex,  -(2 + 1./n)*ex, (1 + 1./n) * ex)), [-1, 0, 1], n, n, 'csr')\n",
    "A = sp.sparse.kron(A, ee) + sp.sparse.kron(ee, A)\n",
    "rhs = np.ones(n * n)\n",
    "\n",
    "print(\"Dimension of the linear system = {}\".format(A.shape[0]))\n",
    "\n",
    "res_all_bicg = []\n",
    "res_all_bicgstab = []\n",
    "def bicg_cl(x):\n",
    "    res_all_bicg.append(np.linalg.norm(A.dot(x) - rhs))\n",
    "\n",
    "def bicgstab_cl(x):\n",
    "    res_all_bicgstab.append(np.linalg.norm(A.dot(x) - rhs))\n",
    "\n",
    "sol2 = scipy.sparse.linalg.bicg(A, rhs, x0=np.zeros(A.shape[0]), callback=bicg_cl)\n",
    "sol2 = scipy.sparse.linalg.bicgstab(A, rhs, x0=np.zeros(A.shape[0]), callback=bicgstab_cl)\n",
    "res_all_bicg = np.array(res_all_bicg)/res_all_bicg[0]\n",
    "res_all_bicgstab = np.array(res_all_bicgstab)/res_all_bicgstab[0]\n",
    "\n",
    "lim = 1000\n",
    "plt.semilogy(res_all_bicgstab[:lim], marker='.',color='k', label='BiCGStab')\n",
    "plt.semilogy(res_all_bicg[:lim], marker='x',color='r', label='BiCG')\n",
    "\n",
    "plt.xlabel('Iteration number', fontsize=20)\n",
    "plt.ylabel('Retative residual norm', fontsize=20)\n",
    "plt.legend(loc='best', fontsize=20)\n",
    "plt.xticks(fontsize=20)\n",
    "_ = plt.yticks(fontsize=20)"
   ]
  },
  {
   "cell_type": "markdown",
   "id": "21b137f1",
   "metadata": {
    "slideshow": {
     "slide_type": "slide"
    }
   },
   "source": [
    "## Борьба с числом обусловленности\n",
    "\n",
    "- Проблема большого числа обусловленности **непреодолима**, если доступна только процедура умножения матрицы на вектор.\n",
    "\n",
    "- Поэтому для её решения нам нужны **предобуславливатели**.\n",
    "\n",
    "- Существует несколько предобуславливателей, применимых для любой задачи, но часто для конкретной задачи нужен специально построенный предобуславливатель."
   ]
  },
  {
   "cell_type": "markdown",
   "id": "ca7092d5",
   "metadata": {
    "slideshow": {
     "slide_type": "slide"
    }
   },
   "source": [
    "### Предобусловливатель: концепция\n",
    "\n",
    "Дана линейная система \n",
    "\n",
    "$$A x = f,$$\n",
    "\n",
    "мы хотим найти матрицу $P_R$ и/или $P_L$ такую что \n",
    "\n",
    "1. Число обусловленности $AP_R^{-1}$ (правый предобуславливатель) или $P^{-1}_LA$ (левый предобуславливатель) или $P^{-1}_L A P_R^{-1}$ меньше, чем у $A$\n",
    "2. Мы можем быстро решать системы $P_Ly = g$ или $P_Ry = g$ для любых $g$ (иначе мы могли бы взять например $P_L = A$)\n",
    "\n",
    "- Тогда мы решаем следующую систему (для правого предобуславливателя)\n",
    "\n",
    "$$ AP_R^{-1} y = f \\quad \\Rightarrow \\quad P_R x = y$$ \n",
    "\n",
    "или (для левого предобуславливателя)\n",
    "\n",
    "$$ P_L^{-1} A x = P_L^{-1}f,$$ \n",
    "\n",
    "или для обоих \n",
    "\n",
    "$$ P_L^{-1} A P_R^{-1} y = P_L^{-1}f \\quad \\Rightarrow \\quad P_R x = y.$$ \n",
    "\n",
    "- Лучший выбор, конечно, $P = A$, но он не делает жизнь проще (почему?)\n",
    "\n",
    "- Одна из идей – это использовать другие итерационные методы (помимо Крыловских) как предобуславливатели"
   ]
  },
  {
   "cell_type": "markdown",
   "id": "5620e258",
   "metadata": {
    "slideshow": {
     "slide_type": "slide"
    }
   },
   "source": [
    "### Другие итерационные методы как предобуславливатели\n",
    "\n",
    "Существуют другие итерационные методы, которые мы ещё не упоминали. \n",
    "\n",
    "1. Метод Якоби\n",
    "2. Метод Гаусса-Зейделя\n",
    "3. SOR($\\omega$) (Successive over-relaxation) и его симметричная модификация SSOR($\\omega$)"
   ]
  },
  {
   "cell_type": "markdown",
   "id": "55cd8199",
   "metadata": {
    "slideshow": {
     "slide_type": "slide"
    }
   },
   "source": [
    "### Метод Якоби (как предобуславливатель)\n",
    "\n",
    "Рассмотрим матрицу с ненулевой диагональю. Для получения **метода Якоби** выразим диагональный элемент:\n",
    "\n",
    "$$a_{ii} x_i = -\\sum_{i \\ne j} a_{ij} x_j + f_i$$\n",
    "\n",
    "и используем это выражение для обновления $x_i$:\n",
    "\n",
    "$$ x_i^{(k+1)} = -\\frac{1}{a_{ii}}\\left( \\sum_{i \\ne j} a_{ij} x_j^{(k)} - f_i \\right),$$\n",
    "\n",
    "или в матричной форме\n",
    "\n",
    "$$ x^{(k+1)} = D^{-1}\\left((D-A)x^{(k)} + f\\right) $$\n",
    "\n",
    "где $D = \\mathrm{diag}(A)$ и наконец\n",
    "\n",
    "$$ x^{(k+1)} = x^{(k)} - D^{-1}(Ax^{(k)} - f). $$\n",
    "\n",
    "- Метод Якоби – это метод Ричардсона с $\\tau=1$ и левым предобуславливателем $P = D$ – диагональной матрицей. \n",
    "- Поэтому мы будем называть $P = \\mathrm{diag}(A)$ **предобуславливаталем Якоби**. \n",
    "- Отметим, что он может быть использован для других методов, например для метода Чебышёва или Крыловских методов."
   ]
  },
  {
   "cell_type": "markdown",
   "id": "888abc3a",
   "metadata": {
    "slideshow": {
     "slide_type": "slide"
    }
   },
   "source": [
    "### Свойства предобуславливателя Якоби\n",
    "\n",
    "Предобуславливатель Якоби:\n",
    "\n",
    "1. Очень прост для вычисления и использования\n",
    "2. Хорошо работает для матриц с диагональным преобладанием (вспомните теорему о кругах Гершгорина!)\n",
    "3. Бесполезен, если все диагональные элементы одинаковы (пропорционален единичной матрице)"
   ]
  },
  {
   "cell_type": "markdown",
   "id": "0180a748",
   "metadata": {
    "slideshow": {
     "slide_type": "slide"
    }
   },
   "source": [
    "### Метод Гаусса-Зейделя (как предобуславливатель)\n",
    "\n",
    "- Другой хорошо известный метод – это **метод Гаусса-Зейделя**. \n",
    "\n",
    "- Его каноническая форма очень похожа на метод Якоби с одним небольшим отличием. Когда мы обновляем $x_i$\n",
    "\n",
    "$$x_i^{(k+1)} := -\\frac{1}{a_{ii}}\\left( \\sum_{j =1}^{i-1} a_{ij} x_j^{(k+1)} +\\sum_{j = i+1}^n a_{ij} x_j^{(k)} - f_i \\right)$$\n",
    "\n",
    "мы **используем последние обновления предыдущих компонент**. В методе Якоби мы использовали весь вектор с прошлой итерации.\n",
    "\n",
    "- Его матричная форма более сложная."
   ]
  },
  {
   "cell_type": "markdown",
   "id": "e4aa341e",
   "metadata": {
    "slideshow": {
     "slide_type": "slide"
    }
   },
   "source": [
    "### Метод Гаусса-Зейделя: матричная форма\n",
    "\n",
    "- Пусть дана матрица $A = A^{*} > 0$, для которой справедливо следующее представление  \n",
    "\n",
    "$$A = L + D + L^{*},$$\n",
    "\n",
    "где $D$ – диагональная часть матрицы $A$, $L$ – нижнетреугольная часть с нулями на диагонали.\n",
    "\n",
    "- Одна итерация метода Гаусса-Зейделя записывается следующим образом\n",
    "\n",
    "$$ x^{(k+1)} = x^{(k)} - (L + D)^{-1}(Ax^{(k)} - f) $$\n",
    "\n",
    "и приводит нас к предобуславливателю $P = L+D$, который мы будем называть **предобуславливатель Гаусса-Зейделя**.\n",
    "\n",
    "- **Хорошая новость:** $\\rho(I - (L+D)^{-1} A) < 1, $ где $\\rho$ – спектральный радиус, то есть для симметричной положительно определённой матрицы метод Гаусса-Зейделя сходится."
   ]
  },
  {
   "cell_type": "markdown",
   "id": "829ae470",
   "metadata": {
    "slideshow": {
     "slide_type": "slide"
    }
   },
   "source": [
    "## Successive overrelaxation (как предобуславливатель)\n",
    "\n",
    "Далее добавим параметр $\\omega$ в предобуславливатель Гаусса-Зейделя и получим метод **successive over-relaxation** (**SOR($\\omega$)**):\n",
    "\n",
    "$$ x^{(k+1)} = x^{(k)} - \\omega (D + \\omega L)^{-1}(Ax^{(k)} - f). $$\n",
    "\n",
    "$$P = \\frac{1}{\\omega}(D+\\omega L).$$\n",
    "\n",
    "- Сходится для $0<\\omega < 2$. \n",
    "- Оптимальный выбор $\\omega$ – нетривиальная задача. Если метод Якоби сходится, то\n",
    "\n",
    "$$\\omega^* = \\frac{2}{1 + \\sqrt{1 - \\rho_J^2}},$$ \n",
    "\n",
    "где $\\rho_J$ – спектральный радиус в методе Якоби.\n",
    "- Отметим, что $\\omega = 1$ даёт предобуславливатель Гаусса-Зейделя.\n"
   ]
  },
  {
   "cell_type": "markdown",
   "id": "005b5192",
   "metadata": {
    "slideshow": {
     "slide_type": "slide"
    }
   },
   "source": [
    "### Предобуславливатели для разреженных матриц\n",
    "\n",
    "- Если $A$ разрежена, то стоимость одной итерации метода Якоби, Гаусса-Зейделя и SOR низкая (какая сложность?). \n",
    "\n",
    "- В методе Гаусса-Зейделя нам нужно решить систему лийненых уравнений с треугольной матрицей $L$, что стоит $\\mathcal{O}(nnz)$ операций.\n",
    "\n",
    "- Однако для разреженных матриц есть более сложные и эффективные алгоритмы, основанные на идее **приближённого LU разложения**.\n",
    "\n",
    "- Вспомним мотивацию в методе CG: возможность ранней остановки\n",
    "- Как можно приблизить LU разложение для разреженной матрицы?"
   ]
  },
  {
   "cell_type": "markdown",
   "id": "93d3a954",
   "metadata": {
    "slideshow": {
     "slide_type": "slide"
    }
   },
   "source": [
    "### Вспомним метод Гаусса\n",
    "\n",
    "\n",
    "- Представить матрицу $A$ в виде \n",
    "\n",
    "$$A = P_1 L U P^{\\top}_2, $$\n",
    "\n",
    "где $P_1$ и $P_2$ определённые матрицы перестановок, с помощью которых производится выбор ведущего элемента\n",
    "\n",
    "- Наиболее естественная идея – это использовать разреженные факторы $L$ и $U$\n",
    "\n",
    "- Это невозможно из-за роста заполнения факторов для матриц, получаемых из дифференциальных уравнения в частных производных\n",
    "\n",
    "- Что с этим делать?"
   ]
  },
  {
   "cell_type": "markdown",
   "id": "a2d41d9d",
   "metadata": {
    "slideshow": {
     "slide_type": "slide"
    }
   },
   "source": [
    "### Неполное LU разложение\n",
    "\n",
    "- Пусть вы хотите исключить переменную $x_1$ в следующих уравнениях\n",
    "\n",
    "$$5 x_1 + x_4 + x_{10} = 1, \\quad 3 x_1 + x_4 + x_8 = 0, \\ldots,$$\n",
    "\n",
    "и во всех других уравнениях $x_1$ отсутствует. \n",
    "\n",
    "- После исключения только $x_{10}$ дополнительно войдёт во второе уравнение (новый ненулевой элемент)\n",
    "\n",
    "$$x_4 + x_8 + 3(1 - x_4 - x_{10})/5 = 0.$$\n",
    "\n",
    "- В случае использования неполного $LU$ разложения (на самом деле, ILU(0)) мы просто отбрасываем новый ненулевой элемент."
   ]
  },
  {
   "cell_type": "markdown",
   "id": "c25b78a7",
   "metadata": {
    "slideshow": {
     "slide_type": "slide"
    }
   },
   "source": [
    "## Неполное LU разложение: формальное определение\n",
    "\n",
    "Используем стандартный цикл для LU разложения, но избегаем вставки новых ненулевых элементов в факторы. \n",
    "\n",
    "```python\n",
    "    L = np.zeros((n, n))\n",
    "    U = np.zeros((n, n))\n",
    "    for k in range(n): #Eliminate one row   \n",
    "        L[k, k] = 1\n",
    "        for i in range(k+1, n):\n",
    "            L[i, k] = a[i, k] / a[k, k]\n",
    "            for j in range(k+1, n):\n",
    "                a[i, j] = a[i, j] - L[i, k] * a[k, j]  #New fill-ins appear here\n",
    "        for j in range(k, n):\n",
    "            U[k, j] = a[k, j]\n",
    "```"
   ]
  },
  {
   "cell_type": "markdown",
   "id": "b41a2386",
   "metadata": {
    "slideshow": {
     "slide_type": "slide"
    }
   },
   "source": [
    "## ILU(k)\n",
    "\n",
    "- Yousef Saad (автор метода GMRES) также является автором [работы](https://www-users.cs.umn.edu/~saad/PDF/umsi-92-38.pdf) о **неполном LU разложении**\n",
    "\n",
    "- Хорошая книга по этой теме – [Iterative methods for sparse linear systems](https://www-users.cs.umn.edu/~saad/IterMethBook_2ndEd.pdf), Y. Saad, 1996\n",
    "\n",
    "- Он также предложил метод **ILU(k)**, который имеет красивую интерпретацию в терминах графов."
   ]
  },
  {
   "cell_type": "markdown",
   "id": "551ad664",
   "metadata": {
    "slideshow": {
     "slide_type": "slide"
    }
   },
   "source": [
    "## ILU(k): идея\n",
    "\n",
    "- Идея ILU(k) основана на связи между разреженными матрицами и графами.\n",
    "\n",
    "- Пусть дана матрица $n \\times n$ и соответствующий её граф\n",
    "\n",
    "- Тогда при исключении одной переменной (вершины) мы получим меньшую систему размера $(n-1) \\times (n-1)$.\n",
    "\n",
    "- Новое ребро (=новый ненулевой элемент) возникнет между соседями."
   ]
  },
  {
   "cell_type": "markdown",
   "id": "d0703725",
   "metadata": {
    "slideshow": {
     "slide_type": "slide"
    }
   },
   "source": [
    "## LU & графы\n",
    "\n",
    "- Новое ребро может возникнуть только между вершинами, у которых есть общие соседи: это означает, что они соседи второго порядка (соседи соседей)\n",
    "- Это также шаблон разреженности матрицы $A^2$.\n",
    "- Идея **ILU(k)** состоит в том, чтобы оставить в факторах $L$ и $U$ те ненулевые элементы, которые соответствуют соседям $k$-го порядка в исходном графе\n",
    "- Метод ILU(2) очень эффективен, но по каким-то причинам игнорируется (например, его реализации нет ни в MATLAB, ни в SciPy).\n",
    "- Есть оригинальный пакет [Sparsekit](https://people.sc.fsu.edu/~jburkardt/f_src/sparsekit/sparsekit.html) написанный Saad'ом, который работает достаточно хорошо."
   ]
  },
  {
   "cell_type": "markdown",
   "id": "71f3eba4",
   "metadata": {
    "slideshow": {
     "slide_type": "slide"
    }
   },
   "source": [
    "## ILU Thresholded (ILUT)\n",
    "\n",
    "- Гораздо более популярный подход основан на так называемом **thresholded LU**.\n",
    "\n",
    "- Вы проводите стандартное исключение Гаусса с заполнением, но не учитываете элементы, которые меньше заданного порога (threshold), и/или контролируете количество ненулевых элементов, которые вы разрешаете хранить.\n",
    "\n",
    "- Чем меньше значение порога, тем лучше предобуславливатель, но больше памяти требуется.\n",
    "\n",
    "- Этот метод обозначается ILUT($\\tau$)."
   ]
  },
  {
   "cell_type": "markdown",
   "id": "28158724",
   "metadata": {
    "slideshow": {
     "slide_type": "slide"
    }
   },
   "source": [
    "### Случай симметричной положительно определённой матрицы\n",
    "\n",
    "- В этом случае вместо неполного LU разложения, нужно использовать неполное разложение Холецкого, которое вдвое быстрее и требует вдвое меньше памяти."
   ]
  },
  {
   "cell_type": "markdown",
   "id": "e0bc68b6",
   "metadata": {
    "slideshow": {
     "slide_type": "slide"
    }
   },
   "source": [
    "## Крыловские методы и матричные функции\n",
    "\n",
    "- Алгоритм Шура-Парлетта\n",
    "- Ряд Тейлора"
   ]
  },
  {
   "cell_type": "markdown",
   "id": "740aa2dd",
   "metadata": {
    "slideshow": {
     "slide_type": "slide"
    }
   },
   "source": [
    "## Использовать Крыловские пространства\n",
    "\n",
    "- Мы можем использовать идею Крыловских методов: с помощью метода Арнольди генерировать ортогональный базис в Крыловском подпространстве и вычислить (это можно делать в общем случае для любой функции)\n",
    "\n",
    "$$ f(A)v \\approx f(Q H Q^*)v = Q f(H) Q^*v,$$\n",
    "\n",
    "где $H$ небольшая верхне-Гессенбергова матрица, для вычисления функции от которой мы можем использовать, например **алгоритм Шура-Парлетта**\n",
    "\n",
    "- Сходимость Крыловского метода может быть очень медленной, так как по сути это **полиномиальная аппроксимация** матричной функции.\n",
    "\n",
    "- А сходимость полиномиальной аппроксимации может быть **очень медленной**\n",
    "\n",
    "- **Идея:** заменить полиномы рациональными функциями!"
   ]
  },
  {
   "cell_type": "markdown",
   "id": "db156f9e",
   "metadata": {
    "slideshow": {
     "slide_type": "slide"
    }
   },
   "source": [
    "## Аппроксимация Паде\n",
    "\n",
    "- Матричная экспонента хорошо приближается **рациональными функциями**:  \n",
    "\n",
    "$$\n",
    "\\exp(x) \\approx \\frac{p(x)}{q(x)},\n",
    "$$\n",
    "\n",
    "где $p(x)$ и $q(x)$ полиномы, тогда вычисление рациональной матричной функции сводится к **матричным произведениям** и **обращаениям матриц**\n",
    "\n",
    "- Рациональная функция также удобна в случае, когда необходимо вычислить только произведение матричной экспоненты на вектор, поскольку вычисление в этом случае сводится к **умножению матрицы на вектор** и **решению систем линейных уравнений**"
   ]
  },
  {
   "cell_type": "code",
   "execution_count": 23,
   "id": "8a9f00bc",
   "metadata": {
    "slideshow": {
     "slide_type": "slide"
    }
   },
   "outputs": [
    {
     "data": {
      "image/png": "[encoded data removed]",
      "text/plain": [
       "<Figure size 640x480 with 1 Axes>"
      ]
     },
     "metadata": {},
     "output_type": "display_data"
    }
   ],
   "source": [
    "#Computing Pade approximant\n",
    "# !pip install mpmath\n",
    "import numpy as np\n",
    "import mpmath\n",
    "%matplotlib inline\n",
    "from mpmath import pade, taylor, polyval\n",
    "import matplotlib.pyplot as plt\n",
    "x = np.linspace(-10, 1, 128)\n",
    "a = taylor(mpmath.exp, 0, 20) #Taylor series\n",
    "k1 = 10\n",
    "k2 = 10\n",
    "p, q = pade(a, k1, k2) #Pade approximant\n",
    "plt.plot(x, polyval(p[::-1], x)/polyval(q[::-1], x) - np.exp(x), label=\"Pade\")\n",
    "plt.semilogy(x, polyval(a[::-1], x) - np.exp(x), label=\"Taylor\")\n",
    "plt.legend()\n",
    "_ = plt.title('Error of the Pade of order {0:d}/{1:d}'.format(k1, k2) )"
   ]
  },
  {
   "cell_type": "markdown",
   "id": "2fdd054f",
   "metadata": {
    "slideshow": {
     "slide_type": "slide"
    }
   },
   "source": [
    "## Алгоритм scaling & squaring \n",
    "\n",
    "Канонический алгоритм вычисления матричной экспоненты опирается на масштабирование (scaling) матрицы $A$:\n",
    "\n",
    "$$\\exp(A) = \\exp(A/2^k)^{(2^k)}.$$\n",
    "\n",
    "В этом случае матрица имеет малую норму, что приводит к следующему алгоритму:\n",
    "\n",
    "- Получить матрицу $B := A/2^k$ с нормой меньше 1 – шаг scaling\n",
    "- Вычислить матричную экспоненту $C = e^B$ с помощью аппроксимации Паде\n",
    "- Получить $e^A \\approx C^{(2^k)}$ с помощью $k$ матричных произведений – шаг squaring"
   ]
  },
  {
   "cell_type": "markdown",
   "id": "a615ed89",
   "metadata": {
    "slideshow": {
     "slide_type": "slide"
    }
   },
   "source": [
    "## Матричная экспонента для матриц большой размерности\n",
    "\n",
    "- Для матриц большого размера нельзя использовать алгоритм scaling-squaring, так как в нём надо работать с плотными матрицами, поэтому мы можем использовать Крыловские методы или (что лучше) **рациональные** Крыловские методы\n",
    "\n",
    "- Идея рациональных Крыловских методов опирается на идею рациональной аппроксимации вместо полиномиальной\n",
    "\n",
    "- Обычные Крыловские методы опираются на полиномиальную аппроксимацию"
   ]
  },
  {
   "cell_type": "markdown",
   "id": "225adad4",
   "metadata": {
    "slideshow": {
     "slide_type": "slide"
    }
   },
   "source": [
    "## Рациональные Крыловские подпространства\n",
    "\n",
    "- Простой и эффективный подход основан на, так называемых, **расширенных Крыловских подпространствах**:\n",
    "\n",
    "$$KE(A, b) = \\mathrm{Span}(\\ldots, A^{-2} b, A^{-1} b, b, A b, A^2 b, \\ldots)$$\n",
    "\n",
    "- На каждом шаге добавляется векторы вида $A w$ и $A^{-1} w$ в подпространство и результат ортогонализуется (**рациональный метод Арнольди**).\n",
    "\n",
    "- То есть нам нужно только решить одну линейную систему на каждом шаге, но если матрица не меняется её можно один раз факторизовать и использовать факторизацию на всех последующих итерациях."
   ]
  },
  {
   "cell_type": "markdown",
   "id": "2c2b7aae",
   "metadata": {
    "slideshow": {
     "slide_type": "slide"
    }
   },
   "source": [
    "## Рациональный Крыловский метод\n",
    "\n",
    "Рациональные Крыловские методы являются наиболее эффективными для вычисления произведения матричной функции на вектор:\n",
    "\n",
    "- Построим ортогональный базис в пространстве\n",
    "\n",
    "$$KE(A, b) = \\mathrm{Span}(\\ldots, A^{-2} b, A^{-1} b, b, A b, A^2 b, \\ldots)$$\n",
    "\n",
    "- И вычислим\n",
    "\n",
    "$$f(A)b \\approx Q f(H) Q^*b,$$\n",
    "\n",
    "где $H = Q^* A Q.$\n",
    "\n",
    "Этот метод требует одного решения линейной системы и умножения матрицы на вектор на каждой итерации."
   ]
  },
  {
   "cell_type": "markdown",
   "id": "5631b1d1",
   "metadata": {
    "slideshow": {
     "slide_type": "slide"
    }
   },
   "source": [
    "## Обратный квадратный корень матрицы\n",
    "\n",
    "- Обратный квадратный корень матрицы $A^{-1/2}$ – полезная матричная функция.\n",
    "\n",
    "- Многомерное нормальное распределение с ковариационной матрицей $A = A^* > 0$ задаётся с помощью \n",
    "\n",
    "$$e^{A^{-1} x, x}.$$\n",
    "\n",
    "- Пусть $x$ вектор большой размерности (миллионы), как сгенерировать сэмпл из нормального распределения с данной **структурированной** ковариационной матрицей $A$?\n",
    "\n",
    "- Простейший алгоритм – это сгенерировать вектор $y$ из стандартного нормального распределения, а затем вычислить \n",
    "\n",
    "$$x = A^{-\\frac{1}{2}} y.$$\n",
    "\n",
    "- Таким образом, вектор $x$ будет из соответствующего распределения.\n",
    "\n",
    "- Рациональные Крыловские подпространства особо эффективны для вычисления квадратного корня из матрицы"
   ]
  },
  {
   "cell_type": "markdown",
   "id": "bb707f79",
   "metadata": {
    "slideshow": {
     "slide_type": "slide"
    }
   },
   "source": [
    "## Применение к вычислению расстояний между многообразиями\n",
    "\n",
    "- Представим два многообразия $\\mathcal{M}$ и $\\mathcal{N}$ как облака точек\n",
    "- Построим два графа из этих облаков точек\n",
    "- Для каждого графа можно построить свой Лапласиан ($L_{\\mathcal{M}}$ и $L_{\\mathcal{N}}$) (вспомните лекцию о векторе Фидлера!)\n",
    "- Heat kernel trace \n",
    "\n",
    "$$\\mathrm{hkt}_{\\mathcal{M}}(t) = \\mathrm{trace}(\\exp(-t L_{\\mathcal{M}}))$$\n",
    "\n",
    "содержит всю информацию о спектре графа\n",
    "\n",
    "- Расстояние Громова-Вассерштайна между многообразиями $\\mathcal{M}$ и $\\mathcal{N}$:\n",
    "\n",
    "$$d_{GW}(\\mathcal{M}, \\mathcal{N}) \\geq \\sup_{t > 0} \\exp(-2(t + t^{-1}))|\\mathrm{hkt}_{\\mathcal{M}}(t) - \\mathrm{hkt}_{\\mathcal{N}}(t)|$$"
   ]
  },
  {
   "cell_type": "markdown",
   "id": "1f050c72",
   "metadata": {
    "slideshow": {
     "slide_type": "slide"
    }
   },
   "source": [
    "### Стохастическая оценка следа\n",
    "\n",
    "- Hutchinson [предложил](https://www.tandfonline.com/doi/abs/10.1080/03610919008812866) следующий метод для оценки следа матрицы\n",
    "\n",
    "$$ \\mathrm{trace}(A) = \\mathbb{E}_{p(x)}(x^{\\top}Ax), $$\n",
    "\n",
    "где $p(x)$ некоторое распределение с нулевым средним и единичной дисперсией, например стандартное нормальное распределение или распределение Радемахера\n",
    "\n",
    "- Для оценки следа нам нужно уметь быстро умножать матрицу на вектор!\n",
    "- И тут рациональные Крыловские подпространства вступают в игру, так как $\\mathrm{hkt}$ требует вычисления следа от матричной экспоненты"
   ]
  },
  {
   "cell_type": "markdown",
   "id": "71d2bb34",
   "metadata": {
    "slideshow": {
     "slide_type": "slide"
    }
   },
   "source": [
    "## Резюме\n",
    "\n",
    "- Методы MINRES, BiCG и BiCGStab \n",
    "- Предобуславливатели: метод Якоби, Гаусса-Зейделя и SOR($\\omega$)\n",
    "- Неполное LU разложение и его варианты"
   ]
  }
 ],
 "metadata": {
  "celltoolbar": "Slideshow",
  "kernelspec": {
   "display_name": "Python 3 (ipykernel)",
   "language": "python",
   "name": "python3"
  },
  "language_info": {
   "codemirror_mode": {
    "name": "ipython",
    "version": 3
   },
   "file_extension": ".py",
   "mimetype": "text/x-python",
   "name": "python",
   "nbconvert_exporter": "python",
   "pygments_lexer": "ipython3",
   "version": "3.10.6"
  }
 },
 "nbformat": 4,
 "nbformat_minor": 5
}
